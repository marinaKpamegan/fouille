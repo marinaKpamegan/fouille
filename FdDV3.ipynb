{
  "cells": [
    {
      "cell_type": "markdown",
      "metadata": {
        "id": "aPJuaqJAqUqG"
      },
      "source": [
        "# **Libraries**"
      ]
    },
    {
      "cell_type": "code",
      "execution_count": 1,
      "metadata": {
        "id": "MZ2RCGvLcpe4"
      },
      "outputs": [],
      "source": [
        "# import library\n",
        "import pandas as pd\n",
        "import pandas as pd\n",
        "import matplotlib.pyplot as plt\n",
        "import seaborn as sns\n",
        "from imblearn.over_sampling import ADASYN\n",
        "from sklearn.metrics import classification_report, f1_score\n",
        "from sklearn.svm import SVC\n",
        "from xgboost import XGBClassifier\n",
        "from sklearn.neural_network import MLPClassifier"
      ]
    },
    {
      "cell_type": "markdown",
      "metadata": {
        "id": "6nsiGkb_psD5"
      },
      "source": [
        "#**Importation des données**  "
      ]
    },
    {
      "cell_type": "code",
      "execution_count": 2,
      "metadata": {
        "colab": {
          "base_uri": "https://localhost:8080/"
        },
        "id": "udNG-ZNtQNx4",
        "outputId": "d84bbcb0-b2b1-4196-9c7b-ca5ced326bf1"
      },
      "outputs": [],
      "source": [
        "# Ajustez le chemin selon l'emplacement réel de votre fichier\n",
        "# data = pd.read_csv('guillaume.txt', sep=';')"
      ]
    },
    {
      "cell_type": "code",
      "execution_count": 3,
      "metadata": {},
      "outputs": [
        {
          "name": "stdout",
          "output_type": "stream",
          "text": [
            "Temps de chargement read_csv (virtuel) = 0.07127640000544488\n",
            "ZIBZIN                      string[pyarrow]\n",
            "IDAvisAutorisationCheque    string[pyarrow]\n",
            "FlagImpaye                  string[pyarrow]\n",
            "Montant                     string[pyarrow]\n",
            "DateTransaction             string[pyarrow]\n",
            "CodeDecision                string[pyarrow]\n",
            "VerifianceCPT1              string[pyarrow]\n",
            "VerifianceCPT2              string[pyarrow]\n",
            "VerifianceCPT3              string[pyarrow]\n",
            "D2CB                        string[pyarrow]\n",
            "ScoringFP1                  string[pyarrow]\n",
            "ScoringFP2                  string[pyarrow]\n",
            "ScoringFP3                  string[pyarrow]\n",
            "TauxImpNb_RB                string[pyarrow]\n",
            "TauxImpNB_CPM               string[pyarrow]\n",
            "EcartNumCheq                string[pyarrow]\n",
            "NbrMagasin3J                string[pyarrow]\n",
            "DiffDateTr1                 string[pyarrow]\n",
            "DiffDateTr2                 string[pyarrow]\n",
            "DiffDateTr3                 string[pyarrow]\n",
            "CA3TRetMtt                  string[pyarrow]\n",
            "CA3TR                       string[pyarrow]\n",
            "Heure                       string[pyarrow]\n",
            "dtype: object\n",
            "<class 'pandas.core.frame.DataFrame'>\n",
            "Index: 4646774 entries, 0 to 309844\n",
            "Data columns (total 23 columns):\n",
            " #   Column                    Dtype \n",
            "---  ------                    ----- \n",
            " 0   ZIBZIN                    string\n",
            " 1   IDAvisAutorisationCheque  string\n",
            " 2   FlagImpaye                string\n",
            " 3   Montant                   string\n",
            " 4   DateTransaction           string\n",
            " 5   CodeDecision              string\n",
            " 6   VerifianceCPT1            string\n",
            " 7   VerifianceCPT2            string\n",
            " 8   VerifianceCPT3            string\n",
            " 9   D2CB                      string\n",
            " 10  ScoringFP1                string\n",
            " 11  ScoringFP2                string\n",
            " 12  ScoringFP3                string\n",
            " 13  TauxImpNb_RB              string\n",
            " 14  TauxImpNB_CPM             string\n",
            " 15  EcartNumCheq              string\n",
            " 16  NbrMagasin3J              string\n",
            " 17  DiffDateTr1               string\n",
            " 18  DiffDateTr2               string\n",
            " 19  DiffDateTr3               string\n",
            " 20  CA3TRetMtt                string\n",
            " 21  CA3TR                     string\n",
            " 22  Heure                     string\n",
            "dtypes: string(23)\n",
            "memory usage: 1.6 GB\n",
            "None\n"
          ]
        }
      ],
      "source": [
        "import dask.dataframe as dd\n",
        "import time\n",
        "\n",
        "depart = time.perf_counter()\n",
        "\n",
        "# Charger le fichier en considérant toutes les colonnes comme des objets (texte)\n",
        "data = dd.read_csv(\"guillaume.txt\", sep=\";\", dtype=str)\n",
        "\n",
        "print(\"Temps de chargement read_csv (virtuel) =\", time.perf_counter() - depart)\n",
        "print(data.dtypes)  # Vérifier que toutes les colonnes sont bien en \"object\"\n",
        "\n",
        "# Convertir en DataFrame Pandas si nécessaire\n",
        "data = data.compute()\n",
        "print(data.info())  # Vérifier la structure finale\n"
      ]
    },
    {
      "cell_type": "code",
      "execution_count": 4,
      "metadata": {},
      "outputs": [
        {
          "data": {
            "text/html": [
              "<div>\n",
              "<style scoped>\n",
              "    .dataframe tbody tr th:only-of-type {\n",
              "        vertical-align: middle;\n",
              "    }\n",
              "\n",
              "    .dataframe tbody tr th {\n",
              "        vertical-align: top;\n",
              "    }\n",
              "\n",
              "    .dataframe thead th {\n",
              "        text-align: right;\n",
              "    }\n",
              "</style>\n",
              "<table border=\"1\" class=\"dataframe\">\n",
              "  <thead>\n",
              "    <tr style=\"text-align: right;\">\n",
              "      <th></th>\n",
              "      <th>ZIBZIN</th>\n",
              "      <th>IDAvisAutorisationCheque</th>\n",
              "      <th>FlagImpaye</th>\n",
              "      <th>Montant</th>\n",
              "      <th>DateTransaction</th>\n",
              "      <th>CodeDecision</th>\n",
              "      <th>VerifianceCPT1</th>\n",
              "      <th>VerifianceCPT2</th>\n",
              "      <th>VerifianceCPT3</th>\n",
              "      <th>D2CB</th>\n",
              "      <th>ScoringFP1</th>\n",
              "      <th>ScoringFP2</th>\n",
              "      <th>ScoringFP3</th>\n",
              "      <th>TauxImpNb_RB</th>\n",
              "      <th>TauxImpNB_CPM</th>\n",
              "      <th>EcartNumCheq</th>\n",
              "      <th>NbrMagasin3J</th>\n",
              "      <th>DiffDateTr1</th>\n",
              "      <th>DiffDateTr2</th>\n",
              "      <th>DiffDateTr3</th>\n",
              "      <th>CA3TRetMtt</th>\n",
              "      <th>CA3TR</th>\n",
              "      <th>Heure</th>\n",
              "    </tr>\n",
              "  </thead>\n",
              "  <tbody>\n",
              "    <tr>\n",
              "      <th>count</th>\n",
              "      <td>4646774</td>\n",
              "      <td>4646774</td>\n",
              "      <td>4646774</td>\n",
              "      <td>4646774</td>\n",
              "      <td>4646774</td>\n",
              "      <td>4646774</td>\n",
              "      <td>4646774</td>\n",
              "      <td>4646774</td>\n",
              "      <td>4646774</td>\n",
              "      <td>4646774</td>\n",
              "      <td>4646774</td>\n",
              "      <td>4646774</td>\n",
              "      <td>4646774</td>\n",
              "      <td>4646774</td>\n",
              "      <td>4646774</td>\n",
              "      <td>4646774</td>\n",
              "      <td>4646774</td>\n",
              "      <td>4646774</td>\n",
              "      <td>4646774</td>\n",
              "      <td>4646774</td>\n",
              "      <td>4646774</td>\n",
              "      <td>4646774</td>\n",
              "      <td>4646774</td>\n",
              "    </tr>\n",
              "    <tr>\n",
              "      <th>unique</th>\n",
              "      <td>1280127</td>\n",
              "      <td>3812040</td>\n",
              "      <td>3</td>\n",
              "      <td>42864</td>\n",
              "      <td>3097882</td>\n",
              "      <td>6</td>\n",
              "      <td>15</td>\n",
              "      <td>23</td>\n",
              "      <td>31</td>\n",
              "      <td>552</td>\n",
              "      <td>2079260</td>\n",
              "      <td>3035594</td>\n",
              "      <td>3186793</td>\n",
              "      <td>663</td>\n",
              "      <td>82</td>\n",
              "      <td>15438</td>\n",
              "      <td>6</td>\n",
              "      <td>154511</td>\n",
              "      <td>51510</td>\n",
              "      <td>12665</td>\n",
              "      <td>67973</td>\n",
              "      <td>35316</td>\n",
              "      <td>49512</td>\n",
              "    </tr>\n",
              "    <tr>\n",
              "      <th>top</th>\n",
              "      <td>A075000041908023367242120</td>\n",
              "      <td>78643047</td>\n",
              "      <td>0</td>\n",
              "      <td>30</td>\n",
              "      <td>2017-03-04 17:18:31</td>\n",
              "      <td>0</td>\n",
              "      <td>0</td>\n",
              "      <td>0</td>\n",
              "      <td>0</td>\n",
              "      <td>1</td>\n",
              "      <td>0</td>\n",
              "      <td>0</td>\n",
              "      <td>0</td>\n",
              "      <td>45,36831264567185</td>\n",
              "      <td>52,076033757361408</td>\n",
              "      <td>0</td>\n",
              "      <td>1</td>\n",
              "      <td>4</td>\n",
              "      <td>4</td>\n",
              "      <td>4</td>\n",
              "      <td>30</td>\n",
              "      <td>0</td>\n",
              "      <td>40646</td>\n",
              "    </tr>\n",
              "    <tr>\n",
              "      <th>freq</th>\n",
              "      <td>217</td>\n",
              "      <td>2</td>\n",
              "      <td>4616778</td>\n",
              "      <td>37028</td>\n",
              "      <td>14</td>\n",
              "      <td>3502786</td>\n",
              "      <td>3618656</td>\n",
              "      <td>3618656</td>\n",
              "      <td>3618656</td>\n",
              "      <td>941716</td>\n",
              "      <td>677840</td>\n",
              "      <td>678108</td>\n",
              "      <td>678120</td>\n",
              "      <td>202994</td>\n",
              "      <td>445066</td>\n",
              "      <td>4068588</td>\n",
              "      <td>4477709</td>\n",
              "      <td>3162537</td>\n",
              "      <td>3605264</td>\n",
              "      <td>3672048</td>\n",
              "      <td>32497</td>\n",
              "      <td>4068163</td>\n",
              "      <td>209</td>\n",
              "    </tr>\n",
              "  </tbody>\n",
              "</table>\n",
              "</div>"
            ],
            "text/plain": [
              "                           ZIBZIN IDAvisAutorisationCheque  ...    CA3TR    Heure\n",
              "count                     4646774                  4646774  ...  4646774  4646774\n",
              "unique                    1280127                  3812040  ...    35316    49512\n",
              "top     A075000041908023367242120                 78643047  ...        0    40646\n",
              "freq                          217                        2  ...  4068163      209\n",
              "\n",
              "[4 rows x 23 columns]"
            ]
          },
          "execution_count": 4,
          "metadata": {},
          "output_type": "execute_result"
        }
      ],
      "source": [
        "data.describe()"
      ]
    },
    {
      "cell_type": "markdown",
      "metadata": {
        "id": "GLx9yOUep3GQ"
      },
      "source": [
        "# **Exploration des donées**"
      ]
    },
    {
      "cell_type": "code",
      "execution_count": 5,
      "metadata": {
        "colab": {
          "base_uri": "https://localhost:8080/"
        },
        "id": "gVHTyH2UfKen",
        "outputId": "32a208d2-c782-4718-b3d3-500b60ea21c7"
      },
      "outputs": [
        {
          "data": {
            "text/plain": [
              "(4646774, 23)"
            ]
          },
          "execution_count": 5,
          "metadata": {},
          "output_type": "execute_result"
        }
      ],
      "source": [
        "# shape\n",
        "data.shape"
      ]
    },
    {
      "cell_type": "markdown",
      "metadata": {
        "id": "NUdO2CFjqC9c"
      },
      "source": [
        "# **Traitement de données**"
      ]
    },
    {
      "cell_type": "code",
      "execution_count": 6,
      "metadata": {
        "id": "TU12riN-Nn9V"
      },
      "outputs": [],
      "source": [
        "def nettoyer_colonnes_par_indices(data, indices_colonnes):\n",
        "    \"\"\"\n",
        "    Nettoie plusieurs colonnes spécifiées par leurs indices en supprimant les espaces,\n",
        "    convertissant les valeurs en numérique, supprimant les valeurs non valides,\n",
        "    et en les convertissant en entiers.\n",
        "\n",
        "    Args:\n",
        "        data (pd.DataFrame): Le DataFrame à traiter.\n",
        "        indices_colonnes (list): Liste des indices des colonnes à nettoyer.\n",
        "\n",
        "    Returns:\n",
        "        pd.DataFrame: Le DataFrame avec les colonnes nettoyées.\n",
        "    \"\"\"\n",
        "    # Parcourir les indices des colonnes\n",
        "    for indice in indices_colonnes:\n",
        "        # Obtenir le nom de la colonne depuis l'indice\n",
        "        colonne = data.columns[indice]\n",
        "\n",
        "        # Supprimer les espaces\n",
        "        data[colonne] = data[colonne].astype(str).str.strip()\n",
        "        # Convertir en numérique (remplace les erreurs par NaN)\n",
        "        data[colonne] = pd.to_numeric(data[colonne], errors='coerce')\n",
        "        # Supprimer les lignes avec des NaN dans la colonne\n",
        "        data = data.dropna(subset=[colonne])\n",
        "        # Convertir les valeurs en entiers\n",
        "        data[colonne] = data[colonne].astype(int)\n",
        "\n",
        "    return data"
      ]
    },
    {
      "cell_type": "code",
      "execution_count": 7,
      "metadata": {
        "colab": {
          "base_uri": "https://localhost:8080/"
        },
        "id": "1-sgqbElNwA_",
        "outputId": "9fa345e4-9ae5-4748-d2cc-e97934c60bb4"
      },
      "outputs": [
        {
          "name": "stderr",
          "output_type": "stream",
          "text": [
            "C:\\Users\\Evidya\\AppData\\Local\\Temp\\ipykernel_19624\\3867840830.py:26: SettingWithCopyWarning: \n",
            "A value is trying to be set on a copy of a slice from a DataFrame.\n",
            "Try using .loc[row_indexer,col_indexer] = value instead\n",
            "\n",
            "See the caveats in the documentation: https://pandas.pydata.org/pandas-docs/stable/user_guide/indexing.html#returning-a-view-versus-a-copy\n",
            "  data[colonne] = data[colonne].astype(int)\n",
            "C:\\Users\\Evidya\\AppData\\Local\\Temp\\ipykernel_19624\\3867840830.py:20: SettingWithCopyWarning: \n",
            "A value is trying to be set on a copy of a slice from a DataFrame.\n",
            "Try using .loc[row_indexer,col_indexer] = value instead\n",
            "\n",
            "See the caveats in the documentation: https://pandas.pydata.org/pandas-docs/stable/user_guide/indexing.html#returning-a-view-versus-a-copy\n",
            "  data[colonne] = data[colonne].astype(str).str.strip()\n",
            "C:\\Users\\Evidya\\AppData\\Local\\Temp\\ipykernel_19624\\3867840830.py:22: SettingWithCopyWarning: \n",
            "A value is trying to be set on a copy of a slice from a DataFrame.\n",
            "Try using .loc[row_indexer,col_indexer] = value instead\n",
            "\n",
            "See the caveats in the documentation: https://pandas.pydata.org/pandas-docs/stable/user_guide/indexing.html#returning-a-view-versus-a-copy\n",
            "  data[colonne] = pd.to_numeric(data[colonne], errors='coerce')\n"
          ]
        }
      ],
      "source": [
        "# Liste des indices des colonnes à nettoyer\n",
        "indices_colonnes = [1,2,5,6,7,8,9,15,16,22]\n",
        "\n",
        "# Nettoyage des colonnes\n",
        "data = nettoyer_colonnes_par_indices(data, indices_colonnes)"
      ]
    },
    {
      "cell_type": "code",
      "execution_count": 8,
      "metadata": {
        "id": "hyBxVt9lP-Ib"
      },
      "outputs": [
        {
          "data": {
            "text/plain": [
              "ZIBZIN                      string[pyarrow]\n",
              "IDAvisAutorisationCheque              int64\n",
              "FlagImpaye                            int64\n",
              "Montant                     string[pyarrow]\n",
              "DateTransaction             string[pyarrow]\n",
              "CodeDecision                          int64\n",
              "VerifianceCPT1                        int64\n",
              "VerifianceCPT2                        int64\n",
              "VerifianceCPT3                        int64\n",
              "D2CB                                  int64\n",
              "ScoringFP1                  string[pyarrow]\n",
              "ScoringFP2                  string[pyarrow]\n",
              "ScoringFP3                  string[pyarrow]\n",
              "TauxImpNb_RB                string[pyarrow]\n",
              "TauxImpNB_CPM               string[pyarrow]\n",
              "EcartNumCheq                          int64\n",
              "NbrMagasin3J                          int64\n",
              "DiffDateTr1                 string[pyarrow]\n",
              "DiffDateTr2                 string[pyarrow]\n",
              "DiffDateTr3                 string[pyarrow]\n",
              "CA3TRetMtt                  string[pyarrow]\n",
              "CA3TR                       string[pyarrow]\n",
              "Heure                                 int64\n",
              "dtype: object"
            ]
          },
          "execution_count": 8,
          "metadata": {},
          "output_type": "execute_result"
        }
      ],
      "source": [
        "# verifier les types de mes données\n",
        "data.dtypes"
      ]
    },
    {
      "cell_type": "code",
      "execution_count": 9,
      "metadata": {
        "colab": {
          "base_uri": "https://localhost:8080/"
        },
        "id": "3QTKe1aJW71V",
        "outputId": "9c095cfb-1b6a-4f96-85f4-4199d0f22f18"
      },
      "outputs": [
        {
          "name": "stdout",
          "output_type": "stream",
          "text": [
            "col_flot : 8\n",
            "col_str : 2\n",
            "col_int : 11\n",
            "co_date : 1\n",
            "col_heure : 1\n"
          ]
        }
      ],
      "source": [
        "col_flot = [\"Montant\", \"TauxImpNb_RB\",\"TauxImpNB_CPM\", \"CA3TRetMtt\", \"CA3TR\",\"ScoringFP1\", \t\"ScoringFP2\", \t\"ScoringFP3\"]\n",
        "col_str = [\"ZIBZIN\",\"IDAvisAutorisationCheque\"]\n",
        "co_date = [\"DateTransaction\"]\n",
        "col_heure = [\"Heure\"]\n",
        "# recuperer toutes les colonnnes qui ne foont pas parti de col_flot, col_str, col_heure, col_date dans col_int\n",
        "col_int = [col for col in data.columns if col not in col_flot and col not in col_str and col not in col_heure and col not in co_date]\n",
        "# afficher le nombre de chacune des liste\n",
        "print(\"col_flot :\", len(col_flot))\n",
        "print(\"col_str :\", len(col_str))\n",
        "print(\"col_int :\", len(col_int))\n",
        "print(\"co_date :\", len(co_date))\n",
        "print(\"col_heure :\", len(col_heure))"
      ]
    },
    {
      "cell_type": "code",
      "execution_count": 10,
      "metadata": {
        "id": "NR0TpIsHYsLF"
      },
      "outputs": [],
      "source": [
        "for col in col_flot:\n",
        "    # Remplacer les virgules par des points dans les colonnes de type string\n",
        "    data[col] = data[col].astype(str).str.replace(',', '.', regex=False)\n",
        "\n",
        "    # Convertir les colonnes au type float\n",
        "    data[col] = data[col].astype(float)"
      ]
    },
    {
      "cell_type": "code",
      "execution_count": 11,
      "metadata": {
        "id": "jK-2RMY4au7-"
      },
      "outputs": [],
      "source": [
        "# Convertir en int\n",
        "for col in col_int:\n",
        "    # Vérifier si la colonne n'est pas déjà de type int\n",
        "    if data[col].dtype != 'int64':\n",
        "        # Remplacer les virgules par des points, si nécessaire\n",
        "        data[col] = data[col].astype(str).str.replace(',', '.')\n",
        "        # Convertir en type float puis en int (pour éviter les problèmes avec les décimales)\n",
        "        data[col] = data[col].astype(float).astype(int)"
      ]
    },
    {
      "cell_type": "code",
      "execution_count": 12,
      "metadata": {
        "id": "AnI1pQEHbppu"
      },
      "outputs": [],
      "source": [
        "# convertir la col_date en type date\n",
        "data['DateTransaction'] = pd.to_datetime(data['DateTransaction'])\n"
      ]
    },
    {
      "cell_type": "code",
      "execution_count": 13,
      "metadata": {
        "id": "xoxa4Lb2cmAe"
      },
      "outputs": [],
      "source": [
        "# Conversion des secondes depuis minuit en format timedelta\n",
        "data['Heure'] = pd.to_timedelta(data['Heure'], unit='s')\n",
        "\n",
        "# Convertir en format HH:MM:SS en chaîne (ou datetime.time si nécessaire)\n",
        "data['Heure'] = data['Heure'].apply(lambda x: (pd.Timestamp(\"00:00:00\") + x).time())"
      ]
    },
    {
      "cell_type": "code",
      "execution_count": 14,
      "metadata": {
        "colab": {
          "base_uri": "https://localhost:8080/",
          "height": 1000
        },
        "id": "wcVeei57Zakx",
        "outputId": "71ff40d7-e074-4607-fefc-7d975cbead9a"
      },
      "outputs": [
        {
          "data": {
            "text/html": [
              "<div>\n",
              "<style scoped>\n",
              "    .dataframe tbody tr th:only-of-type {\n",
              "        vertical-align: middle;\n",
              "    }\n",
              "\n",
              "    .dataframe tbody tr th {\n",
              "        vertical-align: top;\n",
              "    }\n",
              "\n",
              "    .dataframe thead th {\n",
              "        text-align: right;\n",
              "    }\n",
              "</style>\n",
              "<table border=\"1\" class=\"dataframe\">\n",
              "  <thead>\n",
              "    <tr style=\"text-align: right;\">\n",
              "      <th></th>\n",
              "      <th>ZIBZIN</th>\n",
              "      <th>IDAvisAutorisationCheque</th>\n",
              "      <th>FlagImpaye</th>\n",
              "      <th>Montant</th>\n",
              "      <th>DateTransaction</th>\n",
              "      <th>CodeDecision</th>\n",
              "      <th>VerifianceCPT1</th>\n",
              "      <th>VerifianceCPT2</th>\n",
              "      <th>VerifianceCPT3</th>\n",
              "      <th>D2CB</th>\n",
              "      <th>ScoringFP1</th>\n",
              "      <th>ScoringFP2</th>\n",
              "      <th>ScoringFP3</th>\n",
              "      <th>TauxImpNb_RB</th>\n",
              "      <th>TauxImpNB_CPM</th>\n",
              "      <th>EcartNumCheq</th>\n",
              "      <th>NbrMagasin3J</th>\n",
              "      <th>DiffDateTr1</th>\n",
              "      <th>DiffDateTr2</th>\n",
              "      <th>DiffDateTr3</th>\n",
              "      <th>CA3TRetMtt</th>\n",
              "      <th>CA3TR</th>\n",
              "      <th>Heure</th>\n",
              "    </tr>\n",
              "  </thead>\n",
              "  <tbody>\n",
              "    <tr>\n",
              "      <th>0</th>\n",
              "      <td>A013010004908126703060931</td>\n",
              "      <td>78643044</td>\n",
              "      <td>0</td>\n",
              "      <td>20.00</td>\n",
              "      <td>2017-02-01 07:32:14</td>\n",
              "      <td>1</td>\n",
              "      <td>0</td>\n",
              "      <td>0</td>\n",
              "      <td>0</td>\n",
              "      <td>551</td>\n",
              "      <td>0.000000</td>\n",
              "      <td>0.000000</td>\n",
              "      <td>0.000000</td>\n",
              "      <td>37.186668</td>\n",
              "      <td>52.076034</td>\n",
              "      <td>0</td>\n",
              "      <td>1</td>\n",
              "      <td>4</td>\n",
              "      <td>4</td>\n",
              "      <td>4</td>\n",
              "      <td>20.00</td>\n",
              "      <td>0.00</td>\n",
              "      <td>07:32:14</td>\n",
              "    </tr>\n",
              "    <tr>\n",
              "      <th>1</th>\n",
              "      <td>A013011306908024927155000</td>\n",
              "      <td>78643045</td>\n",
              "      <td>0</td>\n",
              "      <td>20.00</td>\n",
              "      <td>2017-02-01 07:43:37</td>\n",
              "      <td>1</td>\n",
              "      <td>0</td>\n",
              "      <td>0</td>\n",
              "      <td>0</td>\n",
              "      <td>551</td>\n",
              "      <td>0.000000</td>\n",
              "      <td>0.000000</td>\n",
              "      <td>0.000000</td>\n",
              "      <td>48.844716</td>\n",
              "      <td>52.076034</td>\n",
              "      <td>1</td>\n",
              "      <td>2</td>\n",
              "      <td>1</td>\n",
              "      <td>4</td>\n",
              "      <td>4</td>\n",
              "      <td>28.61</td>\n",
              "      <td>8.61</td>\n",
              "      <td>07:43:37</td>\n",
              "    </tr>\n",
              "    <tr>\n",
              "      <th>2</th>\n",
              "      <td>A013010002908283134592527</td>\n",
              "      <td>78643046</td>\n",
              "      <td>0</td>\n",
              "      <td>57.64</td>\n",
              "      <td>2017-02-01 07:47:38</td>\n",
              "      <td>1</td>\n",
              "      <td>0</td>\n",
              "      <td>0</td>\n",
              "      <td>0</td>\n",
              "      <td>549</td>\n",
              "      <td>0.000000</td>\n",
              "      <td>0.000000</td>\n",
              "      <td>0.000000</td>\n",
              "      <td>73.118280</td>\n",
              "      <td>52.076034</td>\n",
              "      <td>0</td>\n",
              "      <td>1</td>\n",
              "      <td>4</td>\n",
              "      <td>4</td>\n",
              "      <td>4</td>\n",
              "      <td>57.64</td>\n",
              "      <td>0.00</td>\n",
              "      <td>07:47:38</td>\n",
              "    </tr>\n",
              "    <tr>\n",
              "      <th>3</th>\n",
              "      <td>A011010002908105209831316</td>\n",
              "      <td>78643047</td>\n",
              "      <td>0</td>\n",
              "      <td>54.29</td>\n",
              "      <td>2017-02-01 07:48:48</td>\n",
              "      <td>0</td>\n",
              "      <td>1</td>\n",
              "      <td>1</td>\n",
              "      <td>1</td>\n",
              "      <td>267</td>\n",
              "      <td>0.000000</td>\n",
              "      <td>0.000000</td>\n",
              "      <td>0.000000</td>\n",
              "      <td>110.056926</td>\n",
              "      <td>53.554234</td>\n",
              "      <td>0</td>\n",
              "      <td>1</td>\n",
              "      <td>4</td>\n",
              "      <td>4</td>\n",
              "      <td>4</td>\n",
              "      <td>54.29</td>\n",
              "      <td>0.00</td>\n",
              "      <td>07:48:48</td>\n",
              "    </tr>\n",
              "    <tr>\n",
              "      <th>4</th>\n",
              "      <td>A013010041908000125652029</td>\n",
              "      <td>78643048</td>\n",
              "      <td>0</td>\n",
              "      <td>26.90</td>\n",
              "      <td>2017-02-01 08:13:27</td>\n",
              "      <td>1</td>\n",
              "      <td>0</td>\n",
              "      <td>0</td>\n",
              "      <td>0</td>\n",
              "      <td>549</td>\n",
              "      <td>0.003769</td>\n",
              "      <td>8.586333</td>\n",
              "      <td>0.001192</td>\n",
              "      <td>45.368313</td>\n",
              "      <td>52.076034</td>\n",
              "      <td>1</td>\n",
              "      <td>1</td>\n",
              "      <td>1</td>\n",
              "      <td>4</td>\n",
              "      <td>4</td>\n",
              "      <td>59.15</td>\n",
              "      <td>32.25</td>\n",
              "      <td>08:13:27</td>\n",
              "    </tr>\n",
              "    <tr>\n",
              "      <th>5</th>\n",
              "      <td>A044014706908021215591000</td>\n",
              "      <td>78643049</td>\n",
              "      <td>0</td>\n",
              "      <td>42.51</td>\n",
              "      <td>2017-02-01 08:13:53</td>\n",
              "      <td>1</td>\n",
              "      <td>0</td>\n",
              "      <td>0</td>\n",
              "      <td>0</td>\n",
              "      <td>523</td>\n",
              "      <td>0.000000</td>\n",
              "      <td>0.000000</td>\n",
              "      <td>0.000000</td>\n",
              "      <td>24.223058</td>\n",
              "      <td>27.448962</td>\n",
              "      <td>0</td>\n",
              "      <td>1</td>\n",
              "      <td>4</td>\n",
              "      <td>4</td>\n",
              "      <td>4</td>\n",
              "      <td>42.51</td>\n",
              "      <td>0.00</td>\n",
              "      <td>08:13:53</td>\n",
              "    </tr>\n",
              "    <tr>\n",
              "      <th>6</th>\n",
              "      <td>A059010041908012913210426</td>\n",
              "      <td>78643050</td>\n",
              "      <td>0</td>\n",
              "      <td>50.84</td>\n",
              "      <td>2017-02-01 08:18:24</td>\n",
              "      <td>1</td>\n",
              "      <td>0</td>\n",
              "      <td>0</td>\n",
              "      <td>0</td>\n",
              "      <td>551</td>\n",
              "      <td>0.006151</td>\n",
              "      <td>12.929167</td>\n",
              "      <td>0.001146</td>\n",
              "      <td>44.775178</td>\n",
              "      <td>52.076034</td>\n",
              "      <td>0</td>\n",
              "      <td>1</td>\n",
              "      <td>4</td>\n",
              "      <td>4</td>\n",
              "      <td>4</td>\n",
              "      <td>50.84</td>\n",
              "      <td>0.00</td>\n",
              "      <td>08:18:24</td>\n",
              "    </tr>\n",
              "    <tr>\n",
              "      <th>7</th>\n",
              "      <td>A013000077908491210714030</td>\n",
              "      <td>78643051</td>\n",
              "      <td>0</td>\n",
              "      <td>87.14</td>\n",
              "      <td>2017-02-01 08:19:28</td>\n",
              "      <td>1</td>\n",
              "      <td>0</td>\n",
              "      <td>0</td>\n",
              "      <td>0</td>\n",
              "      <td>547</td>\n",
              "      <td>0.007965</td>\n",
              "      <td>18.189001</td>\n",
              "      <td>0.001130</td>\n",
              "      <td>30.935808</td>\n",
              "      <td>52.076034</td>\n",
              "      <td>0</td>\n",
              "      <td>1</td>\n",
              "      <td>4</td>\n",
              "      <td>4</td>\n",
              "      <td>4</td>\n",
              "      <td>87.14</td>\n",
              "      <td>0.00</td>\n",
              "      <td>08:19:28</td>\n",
              "    </tr>\n",
              "    <tr>\n",
              "      <th>8</th>\n",
              "      <td>A055054707908007521756697</td>\n",
              "      <td>78643052</td>\n",
              "      <td>0</td>\n",
              "      <td>40.00</td>\n",
              "      <td>2017-02-01 08:20:13</td>\n",
              "      <td>1</td>\n",
              "      <td>0</td>\n",
              "      <td>0</td>\n",
              "      <td>0</td>\n",
              "      <td>548</td>\n",
              "      <td>0.000000</td>\n",
              "      <td>0.000000</td>\n",
              "      <td>0.000000</td>\n",
              "      <td>0.000000</td>\n",
              "      <td>35.493265</td>\n",
              "      <td>0</td>\n",
              "      <td>1</td>\n",
              "      <td>4</td>\n",
              "      <td>4</td>\n",
              "      <td>4</td>\n",
              "      <td>40.00</td>\n",
              "      <td>0.00</td>\n",
              "      <td>08:20:13</td>\n",
              "    </tr>\n",
              "    <tr>\n",
              "      <th>9</th>\n",
              "      <td>A013010041908001298460129</td>\n",
              "      <td>78643053</td>\n",
              "      <td>0</td>\n",
              "      <td>90.59</td>\n",
              "      <td>2017-02-01 08:24:09</td>\n",
              "      <td>1</td>\n",
              "      <td>0</td>\n",
              "      <td>0</td>\n",
              "      <td>0</td>\n",
              "      <td>538</td>\n",
              "      <td>0.006476</td>\n",
              "      <td>26.010078</td>\n",
              "      <td>0.001095</td>\n",
              "      <td>45.368313</td>\n",
              "      <td>52.076034</td>\n",
              "      <td>0</td>\n",
              "      <td>1</td>\n",
              "      <td>4</td>\n",
              "      <td>4</td>\n",
              "      <td>4</td>\n",
              "      <td>90.59</td>\n",
              "      <td>0.00</td>\n",
              "      <td>08:24:09</td>\n",
              "    </tr>\n",
              "  </tbody>\n",
              "</table>\n",
              "</div>"
            ],
            "text/plain": [
              "                      ZIBZIN  IDAvisAutorisationCheque  ...  CA3TR     Heure\n",
              "0  A013010004908126703060931                  78643044  ...   0.00  07:32:14\n",
              "1  A013011306908024927155000                  78643045  ...   8.61  07:43:37\n",
              "2  A013010002908283134592527                  78643046  ...   0.00  07:47:38\n",
              "3  A011010002908105209831316                  78643047  ...   0.00  07:48:48\n",
              "4  A013010041908000125652029                  78643048  ...  32.25  08:13:27\n",
              "5  A044014706908021215591000                  78643049  ...   0.00  08:13:53\n",
              "6  A059010041908012913210426                  78643050  ...   0.00  08:18:24\n",
              "7  A013000077908491210714030                  78643051  ...   0.00  08:19:28\n",
              "8  A055054707908007521756697                  78643052  ...   0.00  08:20:13\n",
              "9  A013010041908001298460129                  78643053  ...   0.00  08:24:09\n",
              "\n",
              "[10 rows x 23 columns]"
            ]
          },
          "execution_count": 14,
          "metadata": {},
          "output_type": "execute_result"
        }
      ],
      "source": [
        "# afficher les colonnes transformées\n",
        "data.head(10)"
      ]
    },
    {
      "cell_type": "code",
      "execution_count": 15,
      "metadata": {
        "colab": {
          "base_uri": "https://localhost:8080/",
          "height": 410
        },
        "id": "TE0IrYF17Ipu",
        "outputId": "3ced38d2-d4c9-45b1-c076-4e959575cb44"
      },
      "outputs": [
        {
          "data": {
            "image/png": "[encoded data removed]",
            "text/plain": [
              "<Figure size 600x400 with 1 Axes>"
            ]
          },
          "metadata": {},
          "output_type": "display_data"
        }
      ],
      "source": [
        "# Distribution des classes de la variable cible 'FlagImpaye'\n",
        "target = \"FlagImpaye\"\n",
        "plt.figure(figsize=(6, 4))\n",
        "sns.countplot(x=target, data=data)\n",
        "plt.title('Distribution des classes de FlagImpaye')\n",
        "plt.show()"
      ]
    },
    {
      "cell_type": "markdown",
      "metadata": {
        "id": "EwktVmFrq_Ua"
      },
      "source": [
        "## **Calculer les fréquences des classes**"
      ]
    },
    {
      "cell_type": "code",
      "execution_count": 16,
      "metadata": {
        "colab": {
          "base_uri": "https://localhost:8080/",
          "height": 211
        },
        "id": "K7m5jHctrFtz",
        "outputId": "ec83138a-7672-4f85-ddc5-dbf174e8bd68"
      },
      "outputs": [
        {
          "name": "stdout",
          "output_type": "stream",
          "text": [
            "\n",
            "Classe majoritaire : 4616778\n",
            "Classe minoritaire : 29995\n",
            "Écart des classes : 4586783\n"
          ]
        }
      ],
      "source": [
        "# Calcul des fréquences des classes\n",
        "class_counts = data['FlagImpaye'].value_counts()\n",
        "\n",
        "# Classe majoritaire et minoritaire\n",
        "majority_class = class_counts.max()\n",
        "minority_class = class_counts.min()\n",
        "\n",
        "# Calcul de l'écart entre les classes\n",
        "gap = majority_class - minority_class\n",
        "print(f\"\\nClasse majoritaire : {majority_class}\")\n",
        "print(f\"Classe minoritaire : {minority_class}\")\n",
        "print(f\"Écart des classes : {gap}\")"
      ]
    },
    {
      "cell_type": "markdown",
      "metadata": {
        "id": "HoJQKFfzrbPu"
      },
      "source": [
        "## **Calculer les pourcentages pour mieux visualiser**"
      ]
    },
    {
      "cell_type": "code",
      "execution_count": 17,
      "metadata": {
        "colab": {
          "base_uri": "https://localhost:8080/"
        },
        "id": "CB_GL_dLrfdR",
        "outputId": "84382564-7674-4d3d-a347-e6866a49a603"
      },
      "outputs": [
        {
          "name": "stdout",
          "output_type": "stream",
          "text": [
            "\n",
            "Pourcentage de la classe majoritaire : 99.35%\n",
            "Pourcentage de la classe minoritaire : 0.65%\n",
            "Écart en pourcentage : 98.71%\n"
          ]
        }
      ],
      "source": [
        "# Calcul des pourcentages\n",
        "total = class_counts.sum()\n",
        "percentages = class_counts / total * 100\n",
        "\n",
        "\n",
        "# Afficher l'écart en pourcentage\n",
        "majority_percentage = percentages.max()\n",
        "minority_percentage = percentages.min()\n",
        "gap_percentage = majority_percentage - minority_percentage\n",
        "\n",
        "print(f\"\\nPourcentage de la classe majoritaire : {majority_percentage:.2f}%\")\n",
        "print(f\"Pourcentage de la classe minoritaire : {minority_percentage:.2f}%\")\n",
        "print(f\"Écart en pourcentage : {gap_percentage:.2f}%\")\n"
      ]
    },
    {
      "cell_type": "code",
      "execution_count": 18,
      "metadata": {},
      "outputs": [],
      "source": [
        "# import sys \n",
        "# print(sys.version)\n",
        "# import os\n",
        "# os.environ[\"PYSPARK_PYTHON\"]=\"python\"\n",
        "\n",
        "# from pyspark.sql import SparkSession\n",
        "\n",
        "# # Création d'une session Spark\n",
        "# spark = SparkSession.builder \\\n",
        "#     .appName(\"SparkML_Fouille_Donnees\") \\\n",
        "#     .getOrCreate()"
      ]
    },
    {
      "cell_type": "markdown",
      "metadata": {
        "id": "sW6--kjeu6eK"
      },
      "source": [
        "## **Séparation des features et la cible**"
      ]
    },
    {
      "cell_type": "code",
      "execution_count": 19,
      "metadata": {
        "id": "BGSSJkrIHuB7"
      },
      "outputs": [],
      "source": [
        "# Définir les plages de dates pour l'apprentissage et le test\n",
        "train_start_date = \"2017-02-01\"\n",
        "train_end_date = \"2017-08-31\"\n",
        "test_start_date = \"2017-09-01\"\n",
        "test_end_date = \"2017-11-30\""
      ]
    },
    {
      "cell_type": "code",
      "execution_count": 20,
      "metadata": {
        "id": "bwnH7rSrH1qU"
      },
      "outputs": [],
      "source": [
        "# Séparer les ensembles d'apprentissage et de test\n",
        "train_data = data[(data['DateTransaction'] >= train_start_date) & (data['DateTransaction'] <= train_end_date)]\n",
        "test_data = data[(data['DateTransaction'] >= test_start_date) & (data['DateTransaction'] <= test_end_date)]\n"
      ]
    },
    {
      "cell_type": "code",
      "execution_count": 21,
      "metadata": {
        "id": "He57399_TNyO"
      },
      "outputs": [],
      "source": [
        "# Séparer les caractéristiques (X) et la variable cible (y)\n",
        "X_train = train_data.drop(['IDAvisAutorisationCheque', 'ZIBZIN', 'Heure','FlagImpaye','DateTransaction'], axis=1)\n",
        "y_train = train_data['FlagImpaye']\n",
        "\n",
        "X_test = test_data.drop(['IDAvisAutorisationCheque', 'ZIBZIN', 'Heure','FlagImpaye','DateTransaction'], axis=1)\n",
        "y_test = test_data['FlagImpaye']"
      ]
    },
    {
      "cell_type": "code",
      "execution_count": 22,
      "metadata": {
        "colab": {
          "base_uri": "https://localhost:8080/"
        },
        "id": "zh4y-DqxJtab",
        "outputId": "ccb71e83-6a0c-4d1d-a61c-6484de95a6f8"
      },
      "outputs": [
        {
          "name": "stdout",
          "output_type": "stream",
          "text": [
            "Dimensions des données d'entraînement: (3888468, 18), (3888468,)\n",
            "Dimensions des données de test: (737068, 18), (737068,)\n"
          ]
        }
      ],
      "source": [
        "# Vérifier les dimensions\n",
        "print(f\"Dimensions des données d'entraînement: {X_train.shape}, {y_train.shape}\")\n",
        "print(f\"Dimensions des données de test: {X_test.shape}, {y_test.shape}\")"
      ]
    },
    {
      "cell_type": "code",
      "execution_count": 23,
      "metadata": {},
      "outputs": [],
      "source": [
        "historique = pd.DataFrame(columns=['model', 'sampling_alg', 'f1_score', 'auc', 'time_exec'])"
      ]
    },
    {
      "cell_type": "code",
      "execution_count": 24,
      "metadata": {},
      "outputs": [
        {
          "name": "stdout",
          "output_type": "stream",
          "text": [
            "(3888468, 18)\n",
            "(3888468,)\n"
          ]
        }
      ],
      "source": [
        "from sklearn.preprocessing import StandardScaler\n",
        "from sklearn.linear_model import LogisticRegression\n",
        "from sklearn.tree import DecisionTreeClassifier\n",
        "from sklearn.neighbors import KNeighborsClassifier\n",
        "from sklearn.metrics import classification_report, confusion_matrix, roc_auc_score\n",
        "# Normalisation des données pour les modèles sensibles à l'échelle (ex : KNN, Logistic Regression)\n",
        "scaler = StandardScaler()\n",
        "X_train_scaled = scaler.fit_transform(X_train)\n",
        "X_test_scaled = scaler.transform(X_test)\n",
        "# y and X size\n",
        "print(X_train_scaled.shape)\n",
        "print(y_train.shape)"
      ]
    },
    {
      "cell_type": "markdown",
      "metadata": {
        "id": "cjjF3UpPLE-A"
      },
      "source": [
        "# **Rééchantillonnage**"
      ]
    },
    {
      "cell_type": "markdown",
      "metadata": {},
      "source": [
        "## **Adasyn**"
      ]
    },
    {
      "cell_type": "code",
      "execution_count": 25,
      "metadata": {
        "id": "WyoSYiqvLOIF"
      },
      "outputs": [],
      "source": [
        "# Instancier ADASYN\n",
        "adasyn = ADASYN(sampling_strategy='minority', random_state=42, n_neighbors=5)"
      ]
    },
    {
      "cell_type": "code",
      "execution_count": 26,
      "metadata": {
        "id": "zeGU0-Lmby5_"
      },
      "outputs": [],
      "source": [
        "# appliquer adasyn\n",
        "X_train_resampled_adasyn, y_train_resampled_adasyn = adasyn.fit_resample(X_train_scaled, y_train)"
      ]
    },
    {
      "cell_type": "code",
      "execution_count": 27,
      "metadata": {
        "id": "DHJfC9WV7IOS"
      },
      "outputs": [
        {
          "name": "stdout",
          "output_type": "stream",
          "text": [
            "Distribution des classes de 'FlagImpaye' après sur-échantillonnage (%):\n",
            "Classe 1: 50.01%\n",
            "Classe 0: 49.99%\n"
          ]
        }
      ],
      "source": [
        "# Calculer la distribution des classes en pourcentage apres sur -echantillonnage\n",
        "class_distribution_adasyn = pd.Series(y_train_resampled_adasyn).value_counts(normalize=True) * 100\n",
        "\n",
        "# Afficher les résultats\n",
        "print(\"Distribution des classes de 'FlagImpaye' après sur-échantillonnage (%):\")\n",
        "for classe, pourcentage in class_distribution_adasyn.items():\n",
        "    print(f\"Classe {classe}: {pourcentage:.2f}%\")\n"
      ]
    },
    {
      "cell_type": "code",
      "execution_count": 28,
      "metadata": {},
      "outputs": [],
      "source": [
        "AdasynTrain = pd.DataFrame(X_train_resampled_adasyn, columns=X_train.columns)\n",
        "AdasynTrain[\"flagimpaye\"] = y_train_resampled_adasyn\n"
      ]
    },
    {
      "cell_type": "code",
      "execution_count": 29,
      "metadata": {},
      "outputs": [],
      "source": [
        "# h2o.init(max_mem_size=\"16G\")  # Par exemple, 8 Go de mémoire allouée\n",
        "# import gc\n",
        "# h2o.remove_all()  # Nettoie les objets H2O inutilisés\n",
        "# gc.collect()  # Exécute le garbage collector Python"
      ]
    },
    {
      "cell_type": "code",
      "execution_count": 30,
      "metadata": {},
      "outputs": [],
      "source": [
        "\n",
        "# Sauvegarder en Parquet\n",
        "AdasynTrain.to_parquet(\"adasyn_train.parquet\")\n",
        "\n",
        "# Charger le fichier avec Spark\n",
        "adasyn_df = dd.read_parquet(\"adasyn_train.parquet\")\n"
      ]
    },
    {
      "cell_type": "markdown",
      "metadata": {},
      "source": [
        "## **Random Over Sampling**"
      ]
    },
    {
      "cell_type": "code",
      "execution_count": 31,
      "metadata": {},
      "outputs": [],
      "source": [
        "from imblearn.over_sampling import RandomOverSampler\n",
        "\n",
        "# Oversampling strategy\n",
        "ros = RandomOverSampler(random_state=0)\n",
        "X_train_oversampling, y_train_oversampling = ros.fit_resample(X_train_scaled, y_train)"
      ]
    },
    {
      "cell_type": "code",
      "execution_count": 32,
      "metadata": {},
      "outputs": [
        {
          "name": "stdout",
          "output_type": "stream",
          "text": [
            "Distribution des classes de 'FlagImpaye' après sur-échantillonnage (%):\n",
            "Classe 0: 50.00%\n",
            "Classe 1: 50.00%\n"
          ]
        }
      ],
      "source": [
        "# Calculer la distribution des classes en pourcentage apres sur -echantillonnage\n",
        "class_distribution_ros = pd.Series(y_train_oversampling).value_counts(normalize=True) * 100\n",
        "\n",
        "# Afficher les résultats\n",
        "print(\"Distribution des classes de 'FlagImpaye' après sur-échantillonnage (%):\")\n",
        "for classe, pourcentage in class_distribution_ros.items():\n",
        "    print(f\"Classe {classe}: {pourcentage:.2f}%\")"
      ]
    },
    {
      "cell_type": "code",
      "execution_count": 33,
      "metadata": {},
      "outputs": [],
      "source": [
        "RosTrain = pd.DataFrame(X_train_oversampling, columns=X_train.columns)\n",
        "RosTrain[\"flagimpaye\"] = y_train_oversampling\n"
      ]
    },
    {
      "cell_type": "code",
      "execution_count": 34,
      "metadata": {},
      "outputs": [],
      "source": [
        "# Sauvegarder en Parquet\n",
        "RosTrain.to_parquet(\"ros_train.parquet\")\n",
        "\n",
        "# Charger le fichier avec Spark\n",
        "ros_df = dd.read_parquet(\"ros_train.parquet\")"
      ]
    },
    {
      "cell_type": "code",
      "execution_count": 35,
      "metadata": {},
      "outputs": [
        {
          "name": "stdout",
          "output_type": "stream",
          "text": [
            "Distribution des classes de 'FlagImpaye' après sur-échantillonnage (%):\n",
            "Classe 0: 50.00%\n",
            "Classe 1: 50.00%\n"
          ]
        }
      ],
      "source": [
        "# sampling with smote\n",
        "from imblearn.over_sampling import SMOTE\n",
        "\n",
        "# Instancier SMOTE\n",
        "smote = SMOTE(sampling_strategy='minority', random_state=42, k_neighbors=5)\n",
        "X_train_resampled_smote, y_train_resampled_smote = smote.fit_resample(X_train_scaled, y_train)\n",
        "\n",
        "# Calculer la distribution des classes en pourcentage apres sur -echantillonnage\n",
        "class_distribution_smote = pd.Series(y_train_resampled_smote).value_counts(normalize=True) * 100\n",
        "\n",
        "# Afficher les résultats\n",
        "print(\"Distribution des classes de 'FlagImpaye' après sur-échantillonnage (%):\")\n",
        "for classe, pourcentage in class_distribution_smote.items():\n",
        "    print(f\"Classe {classe}: {pourcentage:.2f}%\")\n"
      ]
    },
    {
      "cell_type": "code",
      "execution_count": 36,
      "metadata": {},
      "outputs": [],
      "source": [
        "SmoteTrain = pd.DataFrame(X_train_resampled_smote, columns=X_train.columns)\n",
        "SmoteTrain[\"flagimpaye\"] = y_train_resampled_smote\n"
      ]
    },
    {
      "cell_type": "code",
      "execution_count": 37,
      "metadata": {},
      "outputs": [],
      "source": [
        "# Sauvegarder en Parquet\n",
        "SmoteTrain.to_parquet(\"smote_train.parquet\")\n",
        "\n",
        "# Charger le fichier avec Spark\n",
        "smote_df = dd.read_parquet(\"smote_train.parquet\")\n"
      ]
    },
    {
      "cell_type": "code",
      "execution_count": 38,
      "metadata": {},
      "outputs": [
        {
          "data": {
            "text/plain": [
              "Index(['Montant', 'CodeDecision', 'VerifianceCPT1', 'VerifianceCPT2',\n",
              "       'VerifianceCPT3', 'D2CB', 'ScoringFP1', 'ScoringFP2', 'ScoringFP3',\n",
              "       'TauxImpNb_RB', 'TauxImpNB_CPM', 'EcartNumCheq', 'NbrMagasin3J',\n",
              "       'DiffDateTr1', 'DiffDateTr2', 'DiffDateTr3', 'CA3TRetMtt', 'CA3TR'],\n",
              "      dtype='object')"
            ]
          },
          "execution_count": 38,
          "metadata": {},
          "output_type": "execute_result"
        }
      ],
      "source": [
        "X_train.columns"
      ]
    },
    {
      "cell_type": "code",
      "execution_count": 39,
      "metadata": {},
      "outputs": [],
      "source": [
        "# X_test scaled to df\n",
        "Test_Df = pd.DataFrame(X_test_scaled, columns=X_test.columns)\n",
        "\n",
        "\n"
      ]
    },
    {
      "cell_type": "code",
      "execution_count": 40,
      "metadata": {},
      "outputs": [],
      "source": [
        "Test_Df[\"flagimpaye\"] = y_test.to_list()\n",
        "\n",
        "# Sauvegarder en Parquet\n",
        "Test_Df.to_parquet(\"test_df.parquet\")\n",
        "\n",
        "# Charger le fichier avec Spark\n",
        "test_Df = dd.read_parquet(\"test_df.parquet\")"
      ]
    },
    {
      "cell_type": "code",
      "execution_count": 41,
      "metadata": {},
      "outputs": [
        {
          "name": "stdout",
          "output_type": "stream",
          "text": [
            "Montant           float64\n",
            "CodeDecision      float64\n",
            "VerifianceCPT1    float64\n",
            "VerifianceCPT2    float64\n",
            "VerifianceCPT3    float64\n",
            "D2CB              float64\n",
            "ScoringFP1        float64\n",
            "ScoringFP2        float64\n",
            "ScoringFP3        float64\n",
            "TauxImpNb_RB      float64\n",
            "TauxImpNB_CPM     float64\n",
            "EcartNumCheq      float64\n",
            "NbrMagasin3J      float64\n",
            "DiffDateTr1       float64\n",
            "DiffDateTr2       float64\n",
            "DiffDateTr3       float64\n",
            "CA3TRetMtt        float64\n",
            "CA3TR             float64\n",
            "flagimpaye          int64\n",
            "dtype: object\n"
          ]
        }
      ],
      "source": [
        "print(smote_df.dtypes)"
      ]
    },
    {
      "cell_type": "markdown",
      "metadata": {},
      "source": [
        "# **Analyse discriminante**"
      ]
    },
    {
      "cell_type": "markdown",
      "metadata": {},
      "source": [
        "## **Sans rééchantillonnage**"
      ]
    },
    {
      "cell_type": "code",
      "execution_count": 42,
      "metadata": {},
      "outputs": [
        {
          "name": "stdout",
          "output_type": "stream",
          "text": [
            "16.112215500004822 sec.\n",
            "Taux de reconnaissance(LDA):  0.9959718777643312\n",
            "Taux d'erreur(LDA):  0.004028122235668841\n",
            "f1score:  0.738989010989011\n",
            "Axes(0.125,0.11;0.62x0.77)\n",
            "aire: 0.9326276361469564\n"
          ]
        },
        {
          "data": {
            "image/png": "[encoded data removed]",
            "text/plain": [
              "<Figure size 640x480 with 2 Axes>"
            ]
          },
          "metadata": {},
          "output_type": "display_data"
        },
        {
          "data": {
            "image/png": "[encoded data removed]",
            "text/plain": [
              "<Figure size 640x480 with 1 Axes>"
            ]
          },
          "metadata": {},
          "output_type": "display_data"
        }
      ],
      "source": [
        "###################### ANALYSE DISCRIMINANTE LINEAIRE SANS RE-ECHANTILLONNAGE #################################\n",
        "\n",
        "from sklearn import metrics\n",
        "import timeit\n",
        "from sklearn.discriminant_analysis import LinearDiscriminantAnalysis\n",
        "\n",
        "#modélisation avec l'analyse discriminante\n",
        "lda = LinearDiscriminantAnalysis()\n",
        "depart = timeit.default_timer()\n",
        "lda.fit(X_train,y_train)\n",
        "duree = timeit.default_timer()- depart\n",
        "print(str(duree)+\" sec.\")\n",
        "\n",
        "# Prediction lda\n",
        "pred_lda = lda.predict(X_test)\n",
        "y_pred_proba = lda.predict_proba(X_test)[:,1]\n",
        "\n",
        "# Le taux de reconnaissance\n",
        "print(\"Taux de reconnaissance(LDA): \",metrics.accuracy_score(y_test,pred_lda))\n",
        "print(\"Taux d'erreur(LDA): \",1-metrics.accuracy_score(y_test,pred_lda))\n",
        "print(\"f1score: \",metrics.f1_score(y_test,pred_lda))\n",
        "\n",
        "\n",
        "\n",
        "# Matrice de confusion\n",
        "import seaborn as sns\n",
        "mc= metrics.confusion_matrix(y_test, pred_lda)\n",
        "print(sns.heatmap(mc, annot=True, fmt=\".0f\"))\n",
        "\n",
        "#fonction pour la courbe ROC\n",
        "from sklearn.metrics import roc_curve\n",
        "\n",
        "#FPR et TPR\n",
        "fpr,tpr,seuils = roc_curve(y_test,y_pred_proba,pos_label=1)\n",
        "\n",
        "#fonction pour l'AUC\n",
        "from sklearn.metrics import auc\n",
        "\n",
        "#valeur de l'AUC\n",
        "aire = auc(fpr,tpr)\n",
        "print(\"aire:\",aire)\n",
        "\n",
        "\n",
        "#graphique\n",
        "import matplotlib.pyplot as plt\n",
        "plt.figure()\n",
        "lw = 2\n",
        "plt.plot(fpr, tpr, color='darkorange',lw=lw, label='ROC curve (area = %0.2f)' % aire)\n",
        "plt.plot([0, 1], [0, 1], color='navy', lw=lw, linestyle='-')\n",
        "plt.xlim([0.0, 1.0])\n",
        "plt.ylim([0.0, 1.05])\n",
        "plt.xlabel('False Positive Rate')\n",
        "plt.ylabel('True Positive Rate')\n",
        "plt.title('Receiver operating characteristic')\n",
        "plt.legend(loc=\"lower right\")\n",
        "plt.show()"
      ]
    },
    {
      "cell_type": "markdown",
      "metadata": {},
      "source": [
        "## **Avec rééchantillonnage**"
      ]
    },
    {
      "cell_type": "markdown",
      "metadata": {},
      "source": [
        "### Adasyn"
      ]
    },
    {
      "cell_type": "code",
      "execution_count": 43,
      "metadata": {
        "id": "3vJuJqd2WpSV"
      },
      "outputs": [
        {
          "name": "stdout",
          "output_type": "stream",
          "text": [
            "Temps d'entraînement: 36.9563 sec.\n",
            "Taux de reconnaissance (LDA avec ADASYN) : 0.7147373105330851\n",
            "Taux d'erreur (LDA avec ADASYN) : 0.2852626894669149\n",
            "F1-score : 0.03284298843595617\n",
            "Axes(0.125,0.11;0.62x0.77)\n",
            "aire: 0.6662469177837906\n"
          ]
        },
        {
          "data": {
            "image/png": "[encoded data removed]",
            "text/plain": [
              "<Figure size 640x480 with 2 Axes>"
            ]
          },
          "metadata": {},
          "output_type": "display_data"
        },
        {
          "data": {
            "image/png": "[encoded data removed]",
            "text/plain": [
              "<Figure size 640x480 with 1 Axes>"
            ]
          },
          "metadata": {},
          "output_type": "display_data"
        }
      ],
      "source": [
        "from sklearn import metrics\n",
        "import timeit\n",
        "from sklearn.discriminant_analysis import LinearDiscriminantAnalysis\n",
        "# Modélisation avec l'analyse discriminante linéaire (LDA)\n",
        "lda = LinearDiscriminantAnalysis()\n",
        "depart = timeit.default_timer()\n",
        "lda.fit(X_train_resampled_adasyn, y_train_resampled_adasyn)  # Entraînement sur les données équilibrées\n",
        "duree = timeit.default_timer() - depart\n",
        "print(f\"Temps d'entraînement: {duree:.4f} sec.\")\n",
        "\n",
        "# Prédiction sur X_test\n",
        "pred_lda = lda.predict(X_test_scaled)\n",
        "y_pred_proba = lda.predict_proba(X_test_scaled)[:,1]\n",
        "\n",
        "# Évaluation des performances\n",
        "print(\"Taux de reconnaissance (LDA avec ADASYN) :\", metrics.accuracy_score(y_test, pred_lda))\n",
        "print(\"Taux d'erreur (LDA avec ADASYN) :\", 1 - metrics.accuracy_score(y_test, pred_lda))\n",
        "print(\"F1-score :\", metrics.f1_score(y_test, pred_lda))\n",
        "\n",
        "\n",
        "\n",
        "# Matrice de confusion\n",
        "mc= metrics.confusion_matrix(y_test, pred_lda)\n",
        "print(sns.heatmap(mc, annot=True, fmt=\".0f\"))\n",
        "\n",
        "\n",
        "#FPR et TPR\n",
        "fpr,tpr,seuils = roc_curve(y_test,y_pred_proba,pos_label=1)\n",
        "\n",
        "#valeur de l'AUC\n",
        "aire = auc(fpr,tpr)\n",
        "print(\"aire:\",aire)\n",
        "\n",
        "#graphique\n",
        "plt.figure()\n",
        "lw = 2\n",
        "plt.plot(fpr, tpr, color='darkorange',lw=lw, label='ROC curve (area = %0.2f)' % aire)\n",
        "plt.plot([0, 1], [0, 1], color='navy', lw=lw, linestyle='-')\n",
        "plt.xlim([0.0, 1.0])\n",
        "plt.ylim([0.0, 1.05])\n",
        "plt.xlabel('False Positive Rate')\n",
        "plt.ylabel('True Positive Rate')\n",
        "plt.title('Receiver operating characteristic')\n",
        "plt.legend(loc=\"lower right\")\n",
        "plt.show()\n"
      ]
    },
    {
      "cell_type": "markdown",
      "metadata": {},
      "source": [
        "### Random over sampling"
      ]
    },
    {
      "cell_type": "code",
      "execution_count": 44,
      "metadata": {},
      "outputs": [
        {
          "name": "stdout",
          "output_type": "stream",
          "text": [
            "Temps d'entraînement: 26.5982 sec.\n",
            "Taux de reconnaissance (LDA avec Random Over sampling) : 0.9717203840079884\n",
            "Taux d'erreur (LDA avec Random Over sampling) : 0.028279615992011564\n",
            "F1-score : 0.3212634321068056\n",
            "Axes(0.125,0.11;0.62x0.77)\n",
            "aire: 0.9329271065319005\n"
          ]
        },
        {
          "data": {
            "image/png": "[encoded data removed]",
            "text/plain": [
              "<Figure size 640x480 with 2 Axes>"
            ]
          },
          "metadata": {},
          "output_type": "display_data"
        },
        {
          "data": {
            "image/png": "[encoded data removed]",
            "text/plain": [
              "<Figure size 640x480 with 1 Axes>"
            ]
          },
          "metadata": {},
          "output_type": "display_data"
        }
      ],
      "source": [
        "\n",
        "# Modélisation avec l'analyse discriminante linéaire (LDA)\n",
        "lda = LinearDiscriminantAnalysis()\n",
        "depart = timeit.default_timer()\n",
        "lda.fit(X_train_oversampling, y_train_oversampling)  # Entraînement sur les données équilibrées\n",
        "duree = timeit.default_timer() - depart\n",
        "print(f\"Temps d'entraînement: {duree:.4f} sec.\")\n",
        "\n",
        "# Prédiction sur X_test\n",
        "pred_lda = lda.predict(X_test_scaled)\n",
        "y_pred_proba = lda.predict_proba(X_test_scaled)[:,1]\n",
        "\n",
        "# Évaluation des performances\n",
        "print(\"Taux de reconnaissance (LDA avec Random Over sampling) :\", metrics.accuracy_score(y_test, pred_lda))\n",
        "print(\"Taux d'erreur (LDA avec Random Over sampling) :\", 1 - metrics.accuracy_score(y_test, pred_lda))\n",
        "print(\"F1-score :\", metrics.f1_score(y_test, pred_lda))\n",
        "\n",
        "\n",
        "\n",
        "# Matrice de confusion\n",
        "mc= metrics.confusion_matrix(y_test, pred_lda)\n",
        "print(sns.heatmap(mc, annot=True, fmt=\".0f\"))\n",
        "\n",
        "\n",
        "#FPR et TPR\n",
        "fpr,tpr,seuils = roc_curve(y_test,y_pred_proba,pos_label=1)\n",
        "\n",
        "#valeur de l'AUC\n",
        "aire = auc(fpr,tpr)\n",
        "print(\"aire:\",aire)\n",
        "\n",
        "#graphique\n",
        "plt.figure()\n",
        "lw = 2\n",
        "plt.plot(fpr, tpr, color='darkorange',lw=lw, label='ROC curve (area = %0.2f)' % aire)\n",
        "plt.plot([0, 1], [0, 1], color='navy', lw=lw, linestyle='-')\n",
        "plt.xlim([0.0, 1.0])\n",
        "plt.ylim([0.0, 1.05])\n",
        "plt.xlabel('False Positive Rate')\n",
        "plt.ylabel('True Positive Rate')\n",
        "plt.title('Receiver operating characteristic')\n",
        "plt.legend(loc=\"lower right\")\n",
        "plt.show()\n"
      ]
    },
    {
      "cell_type": "markdown",
      "metadata": {},
      "source": [
        "### SMOTE"
      ]
    },
    {
      "cell_type": "code",
      "execution_count": 45,
      "metadata": {},
      "outputs": [
        {
          "name": "stdout",
          "output_type": "stream",
          "text": [
            "Temps d'entraînement: 25.1979 sec.\n",
            "Taux de reconnaissance (LDA avec SMOTE) : 0.9699200073805945\n",
            "Taux d'erreur (LDA avec SMOTE) : 0.030079992619405527\n",
            "F1-score : 0.3086900938542609\n",
            "Axes(0.125,0.11;0.62x0.77)\n",
            "aire: 0.9326106188653842\n"
          ]
        },
        {
          "data": {
            "image/png": "[encoded data removed]",
            "text/plain": [
              "<Figure size 640x480 with 2 Axes>"
            ]
          },
          "metadata": {},
          "output_type": "display_data"
        },
        {
          "data": {
            "image/png": "[encoded data removed]",
            "text/plain": [
              "<Figure size 640x480 with 1 Axes>"
            ]
          },
          "metadata": {},
          "output_type": "display_data"
        }
      ],
      "source": [
        "\n",
        "# Modélisation avec l'analyse discriminante linéaire (LDA)\n",
        "lda = LinearDiscriminantAnalysis()\n",
        "depart = timeit.default_timer()\n",
        "lda.fit(X_train_resampled_smote, y_train_resampled_smote)  # Entraînement sur les données équilibrées\n",
        "duree = timeit.default_timer() - depart\n",
        "print(f\"Temps d'entraînement: {duree:.4f} sec.\")\n",
        "\n",
        "# Prédiction sur X_test\n",
        "pred_lda = lda.predict(X_test_scaled)\n",
        "y_pred_proba = lda.predict_proba(X_test_scaled)[:,1]\n",
        "\n",
        "# Évaluation des performances\n",
        "print(\"Taux de reconnaissance (LDA avec SMOTE) :\", metrics.accuracy_score(y_test, pred_lda))\n",
        "print(\"Taux d'erreur (LDA avec SMOTE) :\", 1 - metrics.accuracy_score(y_test, pred_lda))\n",
        "print(\"F1-score :\", metrics.f1_score(y_test, pred_lda))\n",
        "\n",
        "\n",
        "\n",
        "# Matrice de confusion\n",
        "mc= metrics.confusion_matrix(y_test, pred_lda)\n",
        "print(sns.heatmap(mc, annot=True, fmt=\".0f\"))\n",
        "\n",
        "\n",
        "#FPR et TPR\n",
        "fpr,tpr,seuils = roc_curve(y_test,y_pred_proba,pos_label=1)\n",
        "\n",
        "#valeur de l'AUC\n",
        "aire = auc(fpr,tpr)\n",
        "print(\"aire:\",aire)\n",
        "\n",
        "#graphique\n",
        "plt.figure()\n",
        "lw = 2\n",
        "plt.plot(fpr, tpr, color='darkorange',lw=lw, label='ROC curve (area = %0.2f)' % aire)\n",
        "plt.plot([0, 1], [0, 1], color='navy', lw=lw, linestyle='-')\n",
        "plt.xlim([0.0, 1.0])\n",
        "plt.ylim([0.0, 1.05])\n",
        "plt.xlabel('False Positive Rate')\n",
        "plt.ylabel('True Positive Rate')\n",
        "plt.title('Receiver operating characteristic')\n",
        "plt.legend(loc=\"lower right\")\n",
        "plt.show()\n"
      ]
    },
    {
      "cell_type": "markdown",
      "metadata": {},
      "source": [
        "### Random under sampling"
      ]
    },
    {
      "cell_type": "code",
      "execution_count": 57,
      "metadata": {
        "id": "ks4OJJNlNnEu"
      },
      "outputs": [
        {
          "name": "stdout",
          "output_type": "stream",
          "text": [
            "Distribution des classes de 'FlagImpaye' après sous-échantillonnage (%):\n",
            "Classe 0: 50.00%\n",
            "Classe 1: 50.00%\n"
          ]
        }
      ],
      "source": [
        "# under sampling\n",
        "from imblearn.under_sampling import RandomUnderSampler\n",
        "\n",
        "# Undersampling strategy\n",
        "rus = RandomUnderSampler(random_state=0)\n",
        "X_train_undersampling, y_train_undersampling = rus.fit_resample(X_train_scaled, y_train)\n",
        "\n",
        "# Calculer la distribution des classes en pourcentage apres sous -echantillonnage\n",
        "class_distribution_rus = pd.Series(y_train_undersampling).value_counts(normalize=True) * 100\n",
        "\n",
        "# Afficher les résultats\n",
        "print(\"Distribution des classes de 'FlagImpaye' après sous-échantillonnage (%):\")\n",
        "for classe, pourcentage in class_distribution_rus.items():\n",
        "    print(f\"Classe {classe}: {pourcentage:.2f}%\")"
      ]
    },
    {
      "cell_type": "code",
      "execution_count": 58,
      "metadata": {},
      "outputs": [
        {
          "name": "stdout",
          "output_type": "stream",
          "text": [
            "Temps d'entraînement: 0.1546 sec.\n",
            "Taux de reconnaissance (LDA avec RUS) : 0.9707408271692707\n",
            "Taux d'erreur (LDA avec RUS) : 0.02925917283072932\n",
            "F1-score : 0.3156257933485656\n",
            "Axes(0.125,0.11;0.62x0.77)\n",
            "aire: 0.9334658682842715\n"
          ]
        },
        {
          "data": {
            "image/png": "[encoded data removed]",
            "text/plain": [
              "<Figure size 640x480 with 2 Axes>"
            ]
          },
          "metadata": {},
          "output_type": "display_data"
        },
        {
          "data": {
            "image/png": "[encoded data removed]",
            "text/plain": [
              "<Figure size 640x480 with 1 Axes>"
            ]
          },
          "metadata": {},
          "output_type": "display_data"
        }
      ],
      "source": [
        "\n",
        "# Modélisation avec l'analyse discriminante linéaire (LDA)\n",
        "lda = LinearDiscriminantAnalysis()\n",
        "depart = timeit.default_timer()\n",
        "lda.fit(X_train_undersampling, y_train_undersampling)  # Entraînement sur les données équilibrées\n",
        "duree = timeit.default_timer() - depart\n",
        "print(f\"Temps d'entraînement: {duree:.4f} sec.\")\n",
        "\n",
        "# Prédiction sur X_test\n",
        "pred_lda = lda.predict(X_test_scaled)\n",
        "y_pred_proba = lda.predict_proba(X_test_scaled)[:,1]\n",
        "\n",
        "# Évaluation des performances\n",
        "print(\"Taux de reconnaissance (LDA avec RUS) :\", metrics.accuracy_score(y_test, pred_lda))\n",
        "print(\"Taux d'erreur (LDA avec RUS) :\", 1 - metrics.accuracy_score(y_test, pred_lda))\n",
        "print(\"F1-score :\", metrics.f1_score(y_test, pred_lda))\n",
        "\n",
        "\n",
        "\n",
        "# Matrice de confusion\n",
        "mc= metrics.confusion_matrix(y_test, pred_lda)\n",
        "print(sns.heatmap(mc, annot=True, fmt=\".0f\"))\n",
        "\n",
        "\n",
        "#FPR et TPR\n",
        "fpr,tpr,seuils = roc_curve(y_test,y_pred_proba,pos_label=1)\n",
        "\n",
        "#valeur de l'AUC\n",
        "aire = auc(fpr,tpr)\n",
        "print(\"aire:\",aire)\n",
        "\n",
        "#graphique\n",
        "plt.figure()\n",
        "lw = 2\n",
        "plt.plot(fpr, tpr, color='darkorange',lw=lw, label='ROC curve (area = %0.2f)' % aire)\n",
        "plt.plot([0, 1], [0, 1], color='navy', lw=lw, linestyle='-')\n",
        "plt.xlim([0.0, 1.0])\n",
        "plt.ylim([0.0, 1.05])\n",
        "plt.xlabel('False Positive Rate')\n",
        "plt.ylabel('True Positive Rate')\n",
        "plt.title('Receiver operating characteristic')\n",
        "plt.legend(loc=\"lower right\")\n",
        "plt.show()\n"
      ]
    },
    {
      "cell_type": "markdown",
      "metadata": {
        "id": "bLLv_WKpSl1G"
      },
      "source": [
        "# **Modeles**"
      ]
    },
    {
      "cell_type": "markdown",
      "metadata": {
        "id": "Rzvnq4RvUy-E"
      },
      "source": [
        "Nous allons tester plusieurs algorithmes couramment utilisés pour les données déséquilibrées :\n",
        "\n",
        "- Random Forest\n",
        "- XGBoost\n",
        "- Réseaux de neurones\n",
        "- Logistique regression\n"
      ]
    },
    {
      "cell_type": "code",
      "execution_count": 46,
      "metadata": {
        "id": "VvwVnARgcUYg"
      },
      "outputs": [
        {
          "data": {
            "text/html": [
              "<div>\n",
              "    <div style=\"width: 24px; height: 24px; background-color: #e1e1e1; border: 3px solid #9D9D9D; border-radius: 5px; position: absolute;\"> </div>\n",
              "    <div style=\"margin-left: 48px;\">\n",
              "        <h3 style=\"margin-bottom: 0px;\">Client</h3>\n",
              "        <p style=\"color: #9D9D9D; margin-bottom: 0px;\">Client-97481d07-e535-11ef-8ca8-b4692120d6ee</p>\n",
              "        <table style=\"width: 100%; text-align: left;\">\n",
              "\n",
              "        <tr>\n",
              "        \n",
              "            <td style=\"text-align: left;\"><strong>Connection method:</strong> Cluster object</td>\n",
              "            <td style=\"text-align: left;\"><strong>Cluster type:</strong> distributed.LocalCluster</td>\n",
              "        \n",
              "        </tr>\n",
              "\n",
              "        \n",
              "            <tr>\n",
              "                <td style=\"text-align: left;\">\n",
              "                    <strong>Dashboard: </strong> <a href=\"http://127.0.0.1:8787/status\" target=\"_blank\">http://127.0.0.1:8787/status</a>\n",
              "                </td>\n",
              "                <td style=\"text-align: left;\"></td>\n",
              "            </tr>\n",
              "        \n",
              "\n",
              "        </table>\n",
              "\n",
              "        \n",
              "\n",
              "        \n",
              "            <details>\n",
              "            <summary style=\"margin-bottom: 20px;\"><h3 style=\"display: inline;\">Cluster Info</h3></summary>\n",
              "            <div class=\"jp-RenderedHTMLCommon jp-RenderedHTML jp-mod-trusted jp-OutputArea-output\">\n",
              "    <div style=\"width: 24px; height: 24px; background-color: #e1e1e1; border: 3px solid #9D9D9D; border-radius: 5px; position: absolute;\">\n",
              "    </div>\n",
              "    <div style=\"margin-left: 48px;\">\n",
              "        <h3 style=\"margin-bottom: 0px; margin-top: 0px;\">LocalCluster</h3>\n",
              "        <p style=\"color: #9D9D9D; margin-bottom: 0px;\">3ae80a74</p>\n",
              "        <table style=\"width: 100%; text-align: left;\">\n",
              "            <tr>\n",
              "                <td style=\"text-align: left;\">\n",
              "                    <strong>Dashboard:</strong> <a href=\"http://127.0.0.1:8787/status\" target=\"_blank\">http://127.0.0.1:8787/status</a>\n",
              "                </td>\n",
              "                <td style=\"text-align: left;\">\n",
              "                    <strong>Workers:</strong> 4\n",
              "                </td>\n",
              "            </tr>\n",
              "            <tr>\n",
              "                <td style=\"text-align: left;\">\n",
              "                    <strong>Total threads:</strong> 8\n",
              "                </td>\n",
              "                <td style=\"text-align: left;\">\n",
              "                    <strong>Total memory:</strong> 15.89 GiB\n",
              "                </td>\n",
              "            </tr>\n",
              "            \n",
              "            <tr>\n",
              "    <td style=\"text-align: left;\"><strong>Status:</strong> running</td>\n",
              "    <td style=\"text-align: left;\"><strong>Using processes:</strong> True</td>\n",
              "</tr>\n",
              "\n",
              "            \n",
              "        </table>\n",
              "\n",
              "        <details>\n",
              "            <summary style=\"margin-bottom: 20px;\">\n",
              "                <h3 style=\"display: inline;\">Scheduler Info</h3>\n",
              "            </summary>\n",
              "\n",
              "            <div style=\"\">\n",
              "    <div>\n",
              "        <div style=\"width: 24px; height: 24px; background-color: #FFF7E5; border: 3px solid #FF6132; border-radius: 5px; position: absolute;\"> </div>\n",
              "        <div style=\"margin-left: 48px;\">\n",
              "            <h3 style=\"margin-bottom: 0px;\">Scheduler</h3>\n",
              "            <p style=\"color: #9D9D9D; margin-bottom: 0px;\">Scheduler-27361051-fa80-45da-a7b2-e0f38bdff07a</p>\n",
              "            <table style=\"width: 100%; text-align: left;\">\n",
              "                <tr>\n",
              "                    <td style=\"text-align: left;\">\n",
              "                        <strong>Comm:</strong> tcp://127.0.0.1:63648\n",
              "                    </td>\n",
              "                    <td style=\"text-align: left;\">\n",
              "                        <strong>Workers:</strong> 4\n",
              "                    </td>\n",
              "                </tr>\n",
              "                <tr>\n",
              "                    <td style=\"text-align: left;\">\n",
              "                        <strong>Dashboard:</strong> <a href=\"http://127.0.0.1:8787/status\" target=\"_blank\">http://127.0.0.1:8787/status</a>\n",
              "                    </td>\n",
              "                    <td style=\"text-align: left;\">\n",
              "                        <strong>Total threads:</strong> 8\n",
              "                    </td>\n",
              "                </tr>\n",
              "                <tr>\n",
              "                    <td style=\"text-align: left;\">\n",
              "                        <strong>Started:</strong> Just now\n",
              "                    </td>\n",
              "                    <td style=\"text-align: left;\">\n",
              "                        <strong>Total memory:</strong> 15.89 GiB\n",
              "                    </td>\n",
              "                </tr>\n",
              "            </table>\n",
              "        </div>\n",
              "    </div>\n",
              "\n",
              "    <details style=\"margin-left: 48px;\">\n",
              "        <summary style=\"margin-bottom: 20px;\">\n",
              "            <h3 style=\"display: inline;\">Workers</h3>\n",
              "        </summary>\n",
              "\n",
              "        \n",
              "        <div style=\"margin-bottom: 20px;\">\n",
              "            <div style=\"width: 24px; height: 24px; background-color: #DBF5FF; border: 3px solid #4CC9FF; border-radius: 5px; position: absolute;\"> </div>\n",
              "            <div style=\"margin-left: 48px;\">\n",
              "            <details>\n",
              "                <summary>\n",
              "                    <h4 style=\"margin-bottom: 0px; display: inline;\">Worker: 0</h4>\n",
              "                </summary>\n",
              "                <table style=\"width: 100%; text-align: left;\">\n",
              "                    <tr>\n",
              "                        <td style=\"text-align: left;\">\n",
              "                            <strong>Comm: </strong> tcp://127.0.0.1:63667\n",
              "                        </td>\n",
              "                        <td style=\"text-align: left;\">\n",
              "                            <strong>Total threads: </strong> 2\n",
              "                        </td>\n",
              "                    </tr>\n",
              "                    <tr>\n",
              "                        <td style=\"text-align: left;\">\n",
              "                            <strong>Dashboard: </strong> <a href=\"http://127.0.0.1:63669/status\" target=\"_blank\">http://127.0.0.1:63669/status</a>\n",
              "                        </td>\n",
              "                        <td style=\"text-align: left;\">\n",
              "                            <strong>Memory: </strong> 3.97 GiB\n",
              "                        </td>\n",
              "                    </tr>\n",
              "                    <tr>\n",
              "                        <td style=\"text-align: left;\">\n",
              "                            <strong>Nanny: </strong> tcp://127.0.0.1:63651\n",
              "                        </td>\n",
              "                        <td style=\"text-align: left;\"></td>\n",
              "                    </tr>\n",
              "                    <tr>\n",
              "                        <td colspan=\"2\" style=\"text-align: left;\">\n",
              "                            <strong>Local directory: </strong> C:\\Users\\Evidya\\AppData\\Local\\Temp\\dask-scratch-space\\worker-7hp7kr44\n",
              "                        </td>\n",
              "                    </tr>\n",
              "\n",
              "                    \n",
              "\n",
              "                    \n",
              "\n",
              "                </table>\n",
              "            </details>\n",
              "            </div>\n",
              "        </div>\n",
              "        \n",
              "        <div style=\"margin-bottom: 20px;\">\n",
              "            <div style=\"width: 24px; height: 24px; background-color: #DBF5FF; border: 3px solid #4CC9FF; border-radius: 5px; position: absolute;\"> </div>\n",
              "            <div style=\"margin-left: 48px;\">\n",
              "            <details>\n",
              "                <summary>\n",
              "                    <h4 style=\"margin-bottom: 0px; display: inline;\">Worker: 1</h4>\n",
              "                </summary>\n",
              "                <table style=\"width: 100%; text-align: left;\">\n",
              "                    <tr>\n",
              "                        <td style=\"text-align: left;\">\n",
              "                            <strong>Comm: </strong> tcp://127.0.0.1:63676\n",
              "                        </td>\n",
              "                        <td style=\"text-align: left;\">\n",
              "                            <strong>Total threads: </strong> 2\n",
              "                        </td>\n",
              "                    </tr>\n",
              "                    <tr>\n",
              "                        <td style=\"text-align: left;\">\n",
              "                            <strong>Dashboard: </strong> <a href=\"http://127.0.0.1:63677/status\" target=\"_blank\">http://127.0.0.1:63677/status</a>\n",
              "                        </td>\n",
              "                        <td style=\"text-align: left;\">\n",
              "                            <strong>Memory: </strong> 3.97 GiB\n",
              "                        </td>\n",
              "                    </tr>\n",
              "                    <tr>\n",
              "                        <td style=\"text-align: left;\">\n",
              "                            <strong>Nanny: </strong> tcp://127.0.0.1:63653\n",
              "                        </td>\n",
              "                        <td style=\"text-align: left;\"></td>\n",
              "                    </tr>\n",
              "                    <tr>\n",
              "                        <td colspan=\"2\" style=\"text-align: left;\">\n",
              "                            <strong>Local directory: </strong> C:\\Users\\Evidya\\AppData\\Local\\Temp\\dask-scratch-space\\worker-6z4bqhiu\n",
              "                        </td>\n",
              "                    </tr>\n",
              "\n",
              "                    \n",
              "\n",
              "                    \n",
              "\n",
              "                </table>\n",
              "            </details>\n",
              "            </div>\n",
              "        </div>\n",
              "        \n",
              "        <div style=\"margin-bottom: 20px;\">\n",
              "            <div style=\"width: 24px; height: 24px; background-color: #DBF5FF; border: 3px solid #4CC9FF; border-radius: 5px; position: absolute;\"> </div>\n",
              "            <div style=\"margin-left: 48px;\">\n",
              "            <details>\n",
              "                <summary>\n",
              "                    <h4 style=\"margin-bottom: 0px; display: inline;\">Worker: 2</h4>\n",
              "                </summary>\n",
              "                <table style=\"width: 100%; text-align: left;\">\n",
              "                    <tr>\n",
              "                        <td style=\"text-align: left;\">\n",
              "                            <strong>Comm: </strong> tcp://127.0.0.1:63673\n",
              "                        </td>\n",
              "                        <td style=\"text-align: left;\">\n",
              "                            <strong>Total threads: </strong> 2\n",
              "                        </td>\n",
              "                    </tr>\n",
              "                    <tr>\n",
              "                        <td style=\"text-align: left;\">\n",
              "                            <strong>Dashboard: </strong> <a href=\"http://127.0.0.1:63674/status\" target=\"_blank\">http://127.0.0.1:63674/status</a>\n",
              "                        </td>\n",
              "                        <td style=\"text-align: left;\">\n",
              "                            <strong>Memory: </strong> 3.97 GiB\n",
              "                        </td>\n",
              "                    </tr>\n",
              "                    <tr>\n",
              "                        <td style=\"text-align: left;\">\n",
              "                            <strong>Nanny: </strong> tcp://127.0.0.1:63655\n",
              "                        </td>\n",
              "                        <td style=\"text-align: left;\"></td>\n",
              "                    </tr>\n",
              "                    <tr>\n",
              "                        <td colspan=\"2\" style=\"text-align: left;\">\n",
              "                            <strong>Local directory: </strong> C:\\Users\\Evidya\\AppData\\Local\\Temp\\dask-scratch-space\\worker-5nez3vbu\n",
              "                        </td>\n",
              "                    </tr>\n",
              "\n",
              "                    \n",
              "\n",
              "                    \n",
              "\n",
              "                </table>\n",
              "            </details>\n",
              "            </div>\n",
              "        </div>\n",
              "        \n",
              "        <div style=\"margin-bottom: 20px;\">\n",
              "            <div style=\"width: 24px; height: 24px; background-color: #DBF5FF; border: 3px solid #4CC9FF; border-radius: 5px; position: absolute;\"> </div>\n",
              "            <div style=\"margin-left: 48px;\">\n",
              "            <details>\n",
              "                <summary>\n",
              "                    <h4 style=\"margin-bottom: 0px; display: inline;\">Worker: 3</h4>\n",
              "                </summary>\n",
              "                <table style=\"width: 100%; text-align: left;\">\n",
              "                    <tr>\n",
              "                        <td style=\"text-align: left;\">\n",
              "                            <strong>Comm: </strong> tcp://127.0.0.1:63668\n",
              "                        </td>\n",
              "                        <td style=\"text-align: left;\">\n",
              "                            <strong>Total threads: </strong> 2\n",
              "                        </td>\n",
              "                    </tr>\n",
              "                    <tr>\n",
              "                        <td style=\"text-align: left;\">\n",
              "                            <strong>Dashboard: </strong> <a href=\"http://127.0.0.1:63670/status\" target=\"_blank\">http://127.0.0.1:63670/status</a>\n",
              "                        </td>\n",
              "                        <td style=\"text-align: left;\">\n",
              "                            <strong>Memory: </strong> 3.97 GiB\n",
              "                        </td>\n",
              "                    </tr>\n",
              "                    <tr>\n",
              "                        <td style=\"text-align: left;\">\n",
              "                            <strong>Nanny: </strong> tcp://127.0.0.1:63657\n",
              "                        </td>\n",
              "                        <td style=\"text-align: left;\"></td>\n",
              "                    </tr>\n",
              "                    <tr>\n",
              "                        <td colspan=\"2\" style=\"text-align: left;\">\n",
              "                            <strong>Local directory: </strong> C:\\Users\\Evidya\\AppData\\Local\\Temp\\dask-scratch-space\\worker-52sw50qk\n",
              "                        </td>\n",
              "                    </tr>\n",
              "\n",
              "                    \n",
              "\n",
              "                    \n",
              "\n",
              "                </table>\n",
              "            </details>\n",
              "            </div>\n",
              "        </div>\n",
              "        \n",
              "\n",
              "    </details>\n",
              "</div>\n",
              "\n",
              "        </details>\n",
              "    </div>\n",
              "</div>\n",
              "            </details>\n",
              "        \n",
              "\n",
              "    </div>\n",
              "</div>"
            ],
            "text/plain": [
              "<Client: 'tcp://127.0.0.1:63648' processes=4 threads=8, memory=15.89 GiB>"
            ]
          },
          "execution_count": 46,
          "metadata": {},
          "output_type": "execute_result"
        }
      ],
      "source": [
        "from dask.distributed import Client\n",
        "\n",
        "# Lancer un client Dask (utile pour voir les tâches en arrière-plan)\n",
        "client = Client()\n",
        "client\n"
      ]
    },
    {
      "cell_type": "code",
      "execution_count": null,
      "metadata": {},
      "outputs": [],
      "source": [
        "# adasyn_df = dd.from_pandas(adasyn_df, npartitions=4)  # npartitions = nombre de cœurs CPU\n",
        "# test_Df = dd.from_pandas(test_Df, npartitions=4)  # npartitions = nombre de cœurs CPU\n"
      ]
    },
    {
      "cell_type": "markdown",
      "metadata": {},
      "source": [
        "### Logistic Regression"
      ]
    },
    {
      "cell_type": "code",
      "execution_count": 47,
      "metadata": {},
      "outputs": [
        {
          "name": "stdout",
          "output_type": "stream",
          "text": [
            "Temps d'entraînement: 25.8036 sec.\n",
            "Taux de reconnaissance (Logistic Regression avec ROS) : 0.9433770018505755\n"
          ]
        }
      ],
      "source": [
        "# apprentissage avec log regression\n",
        "from sklearn.linear_model import LogisticRegression\n",
        "\n",
        "# Instancier le modèle\n",
        "log_reg = LogisticRegression(max_iter=1000)\n",
        "\n",
        "# Entraîner le modèle sur les données équilibrées\n",
        "depart = timeit.default_timer()\n",
        "log_reg.fit(X_train_oversampling, y_train_oversampling)\n",
        "duree = timeit.default_timer() - depart\n",
        "print(f\"Temps d'entraînement: {duree:.4f} sec.\")\n",
        "\n",
        "# Prédiction sur les données de test\n",
        "pred_log_reg = log_reg.predict(X_test_scaled)\n",
        "y_pred_proba = log_reg.predict_proba(X_test_scaled)[:,1]\n",
        "\n",
        "# Évaluation des performances\n",
        "print(\"Taux de reconnaissance (Logistic Regression avec ROS) :\", metrics.accuracy_score(y_test, pred_log_reg))"
      ]
    },
    {
      "cell_type": "code",
      "execution_count": 49,
      "metadata": {},
      "outputs": [
        {
          "name": "stderr",
          "output_type": "stream",
          "text": [
            "C:\\Users\\Evidya\\AppData\\Local\\Temp\\ipykernel_19624\\518543863.py:11: FutureWarning: The behavior of DataFrame concatenation with empty or all-NA entries is deprecated. In a future version, this will no longer exclude empty or all-NA columns when determining the result dtypes. To retain the old behavior, exclude the relevant entries before the concat operation.\n",
            "  historique = pd.concat([historique, new_entry], ignore_index=True)\n"
          ]
        }
      ],
      "source": [
        "# historisation\n",
        "new_entry = pd.DataFrame([{\n",
        "    'model': 'Logistic Regression',\n",
        "    'sampling_alg': 'ROS',\n",
        "    'f1_score': metrics.f1_score(y_test, pred_log_reg),\n",
        "    'auc': metrics.roc_auc_score(y_test, y_pred_proba),\n",
        "    'time_exec': duree\n",
        "}])\n",
        "\n",
        "# Concaténer avec l'historique existant\n",
        "historique = pd.concat([historique, new_entry], ignore_index=True)"
      ]
    },
    {
      "cell_type": "code",
      "execution_count": 65,
      "metadata": {},
      "outputs": [
        {
          "name": "stdout",
          "output_type": "stream",
          "text": [
            "Temps d'entraînement: 0.1710 sec.\n",
            "Taux de reconnaissance (Logistic Regression avec RUS) : 0.9403799920767147\n"
          ]
        }
      ],
      "source": [
        "# apprentissage avec log regression\n",
        "from sklearn.linear_model import LogisticRegression\n",
        "\n",
        "# Instancier le modèle\n",
        "log_reg = LogisticRegression(max_iter=1000)\n",
        "\n",
        "# Entraîner le modèle sur les données équilibrées\n",
        "depart = timeit.default_timer()\n",
        "log_reg.fit(X_train_undersampling, y_train_undersampling)\n",
        "duree = timeit.default_timer() - depart\n",
        "print(f\"Temps d'entraînement: {duree:.4f} sec.\")\n",
        "\n",
        "# Prédiction sur les données de test\n",
        "pred_log_reg = log_reg.predict(X_test_scaled)\n",
        "y_pred_proba = log_reg.predict_proba(X_test_scaled)[:,1]\n",
        "\n",
        "# Évaluation des performances\n",
        "print(\"Taux de reconnaissance (Logistic Regression avec RUS) :\", metrics.accuracy_score(y_test, pred_log_reg))\n",
        "\n",
        "# historisation\n",
        "new_entry = pd.DataFrame([{\n",
        "    'model': 'Logistic Regression',\n",
        "    'sampling_alg': 'RUS',\n",
        "    'f1_score': metrics.f1_score(y_test, pred_log_reg),\n",
        "    'auc': metrics.roc_auc_score(y_test, y_pred_proba),\n",
        "    'time_exec': duree\n",
        "}])\n",
        "\n",
        "# Concaténer avec l'historique existant\n",
        "historique = pd.concat([historique, new_entry], ignore_index=True)"
      ]
    },
    {
      "cell_type": "code",
      "execution_count": 66,
      "metadata": {},
      "outputs": [
        {
          "name": "stdout",
          "output_type": "stream",
          "text": [
            "Temps d'entraînement: 15.3551 sec.\n",
            "Taux de reconnaissance (Logistic Regression avec SMOTE) : 0.9422889068579833\n"
          ]
        }
      ],
      "source": [
        "# apprentissage avec log regression\n",
        "from sklearn.linear_model import LogisticRegression\n",
        "\n",
        "# Instancier le modèle\n",
        "log_reg = LogisticRegression(max_iter=1000)\n",
        "\n",
        "# Entraîner le modèle sur les données équilibrées\n",
        "depart = timeit.default_timer()\n",
        "log_reg.fit(X_train_resampled_smote, y_train_resampled_smote)\n",
        "duree = timeit.default_timer() - depart\n",
        "print(f\"Temps d'entraînement: {duree:.4f} sec.\")\n",
        "\n",
        "# Prédiction sur les données de test\n",
        "pred_log_reg = log_reg.predict(X_test_scaled)\n",
        "y_pred_proba = log_reg.predict_proba(X_test_scaled)[:,1]\n",
        "\n",
        "# Évaluation des performances\n",
        "print(\"Taux de reconnaissance (Logistic Regression avec SMOTE) :\", metrics.accuracy_score(y_test, pred_log_reg))\n",
        "\n",
        "# historisation\n",
        "new_entry = pd.DataFrame([{\n",
        "    'model': 'Logistic Regression',\n",
        "    'sampling_alg': 'SMOTE',\n",
        "    'f1_score': metrics.f1_score(y_test, pred_log_reg),\n",
        "    'auc': metrics.roc_auc_score(y_test, y_pred_proba),\n",
        "    'time_exec': duree\n",
        "}])\n",
        "\n",
        "# Concaténer avec l'historique existant\n",
        "historique = pd.concat([historique, new_entry], ignore_index=True)"
      ]
    },
    {
      "cell_type": "markdown",
      "metadata": {
        "id": "hy6QWHfB7ntJ"
      },
      "source": [
        "## **Random Forest**"
      ]
    },
    {
      "cell_type": "code",
      "execution_count": 52,
      "metadata": {
        "colab": {
          "base_uri": "https://localhost:8080/",
          "height": 80
        },
        "id": "3VaHWkqNYUuB",
        "outputId": "30e267b7-89ec-49c4-91ec-e65324fc2e8e"
      },
      "outputs": [
        {
          "name": "stdout",
          "output_type": "stream",
          "text": [
            "Temps d'entraînement: 5009.0790 sec.\n",
            "Taux de reconnaissance (Random Forest avec ROS) : 0.9968089782760885\n"
          ]
        }
      ],
      "source": [
        "from sklearn.ensemble import RandomForestClassifier\n",
        "# Initialiser et entraîner le modèle Random Forest\n",
        "rf_model = RandomForestClassifier(class_weight='balanced', random_state=0)\n",
        "rf_model.fit(X_train_oversampling, y_train_oversampling)\n",
        "duree = timeit.default_timer() - depart\n",
        "print(f\"Temps d'entraînement: {duree:.4f} sec.\")\n",
        "\n",
        "# Prédiction sur les données de test\n",
        "pred_rf = rf_model.predict(X_test_scaled)\n",
        "y_pred_proba = rf_model.predict_proba(X_test_scaled)[:,1]\n",
        "\n",
        "# Évaluation des performances\n",
        "print(\"Taux de reconnaissance (Random Forest avec ROS) :\", metrics.accuracy_score(y_test, pred_rf))\n"
      ]
    },
    {
      "cell_type": "code",
      "execution_count": 67,
      "metadata": {},
      "outputs": [],
      "source": [
        "# historisation\n",
        "new_entry = pd.DataFrame([{\n",
        "    'model': 'Random Forest',\n",
        "    'sampling_alg': 'ROS',\n",
        "    'f1_score': metrics.f1_score(y_test, pred_rf),\n",
        "    'auc': metrics.roc_auc_score(y_test, y_pred_proba),\n",
        "    'time_exec': duree\n",
        "}])\n",
        "\n",
        "# Concaténer avec l'historique existant\n",
        "historique = pd.concat([historique, new_entry], ignore_index=True)"
      ]
    },
    {
      "cell_type": "code",
      "execution_count": 69,
      "metadata": {},
      "outputs": [
        {
          "name": "stdout",
          "output_type": "stream",
          "text": [
            "Temps d'entraînement: 6961.7509 sec.\n",
            "Taux de reconnaissance (Random Forest avec SMOTE) : 0.9955119473372878\n"
          ]
        }
      ],
      "source": [
        "\n",
        "# Initialiser et entraîner le modèle Random Forest\n",
        "rf_model = RandomForestClassifier(class_weight='balanced', random_state=0)\n",
        "rf_model.fit(X_train_resampled_smote, y_train_resampled_smote)\n",
        "duree = timeit.default_timer() - depart\n",
        "print(f\"Temps d'entraînement: {duree:.4f} sec.\")\n",
        "\n",
        "# Prédiction sur les données de test\n",
        "pred_rf = rf_model.predict(X_test_scaled)\n",
        "y_pred_proba = rf_model.predict_proba(X_test_scaled)[:,1]\n",
        "\n",
        "# Évaluation des performances\n",
        "print(\"Taux de reconnaissance (Random Forest avec SMOTE) :\", metrics.accuracy_score(y_test, pred_rf))\n"
      ]
    },
    {
      "cell_type": "code",
      "execution_count": 70,
      "metadata": {},
      "outputs": [],
      "source": [
        "# historisation\n",
        "new_entry = pd.DataFrame([{\n",
        "    'model': 'Random Forest',\n",
        "    'sampling_alg': 'SMOTE',\n",
        "    'f1_score': metrics.f1_score(y_test, pred_rf),\n",
        "    'auc': metrics.roc_auc_score(y_test, y_pred_proba),\n",
        "    'time_exec': duree\n",
        "}])\n",
        "\n",
        "# Concaténer avec l'historique existant\n",
        "historique = pd.concat([historique, new_entry], ignore_index=True)"
      ]
    },
    {
      "cell_type": "code",
      "execution_count": 71,
      "metadata": {},
      "outputs": [
        {
          "name": "stdout",
          "output_type": "stream",
          "text": [
            "Temps d'entraînement: 7017.9853 sec.\n",
            "Taux de reconnaissance (Random Forest avec SMOTE) : 0.9243068482148187\n"
          ]
        }
      ],
      "source": [
        "\n",
        "# Initialiser et entraîner le modèle Random Forest\n",
        "rf_model = RandomForestClassifier(class_weight='balanced', random_state=0)\n",
        "rf_model.fit(X_train_undersampling, y_train_undersampling)\n",
        "duree = timeit.default_timer() - depart\n",
        "print(f\"Temps d'entraînement: {duree:.4f} sec.\")\n",
        "\n",
        "# Prédiction sur les données de test\n",
        "pred_rf = rf_model.predict(X_test_scaled)\n",
        "y_pred_proba = rf_model.predict_proba(X_test_scaled)[:,1]\n",
        "\n",
        "# Évaluation des performances\n",
        "print(\"Taux de reconnaissance (Random Forest avec SMOTE) :\", metrics.accuracy_score(y_test, pred_rf))\n"
      ]
    },
    {
      "cell_type": "code",
      "execution_count": 72,
      "metadata": {},
      "outputs": [],
      "source": [
        "# historisation\n",
        "new_entry = pd.DataFrame([{\n",
        "    'model': 'Random Forest',\n",
        "    'sampling_alg': 'RUS',\n",
        "    'f1_score': metrics.f1_score(y_test, pred_rf),\n",
        "    'auc': metrics.roc_auc_score(y_test, y_pred_proba),\n",
        "    'time_exec': duree\n",
        "}])\n",
        "\n",
        "# Concaténer avec l'historique existant\n",
        "historique = pd.concat([historique, new_entry], ignore_index=True)"
      ]
    },
    {
      "cell_type": "markdown",
      "metadata": {
        "id": "BeAhUewW7urg"
      },
      "source": [
        "## **XGBoost**"
      ]
    },
    {
      "cell_type": "code",
      "execution_count": 73,
      "metadata": {
        "id": "4CgdGlvz7ufC"
      },
      "outputs": [
        {
          "name": "stdout",
          "output_type": "stream",
          "text": [
            "XGBoost Classification Report:\n",
            "              precision    recall  f1-score   support\n",
            "\n",
            "           0       1.00      0.93      0.96    730583\n",
            "           1       0.09      0.82      0.17      6485\n",
            "\n",
            "    accuracy                           0.93    737068\n",
            "   macro avg       0.55      0.88      0.57    737068\n",
            "weighted avg       0.99      0.93      0.96    737068\n",
            "\n"
          ]
        }
      ],
      "source": [
        "# Initialiser et entraîner le modèle XGBoost\n",
        "xgb_model = XGBClassifier(random_state=42, eval_metric=\"logloss\")\n",
        "xgb_model.fit(X_train_oversampling, y_train_oversampling)\n",
        "# Prédictions et évaluation\n",
        "y_pred_xgb = xgb_model.predict(X_test_scaled)\n",
        "y_pred_proba = xgb_model.predict_proba(X_test_scaled)[:,1]\n",
        "print(\"XGBoost Classification Report:\")\n",
        "print(classification_report(y_test, y_pred_xgb))\n",
        "\n",
        "# historisation\n",
        "new_entry = pd.DataFrame([{\n",
        "    'model': 'xgboost',\n",
        "    'sampling_alg': 'ROS',\n",
        "    'f1_score': metrics.f1_score(y_test, y_pred_xgb),\n",
        "    'auc': metrics.roc_auc_score(y_test, y_pred_proba),\n",
        "    'time_exec': duree\n",
        "}])\n",
        "\n",
        "# Concaténer avec l'historique existant\n",
        "historique = pd.concat([historique, new_entry], ignore_index=True)"
      ]
    },
    {
      "cell_type": "code",
      "execution_count": 74,
      "metadata": {},
      "outputs": [
        {
          "name": "stdout",
          "output_type": "stream",
          "text": [
            "XGBoost Classification Report:\n",
            "              precision    recall  f1-score   support\n",
            "\n",
            "           0       1.00      0.97      0.98    730583\n",
            "           1       0.17      0.77      0.28      6485\n",
            "\n",
            "    accuracy                           0.96    737068\n",
            "   macro avg       0.58      0.87      0.63    737068\n",
            "weighted avg       0.99      0.96      0.98    737068\n",
            "\n"
          ]
        }
      ],
      "source": [
        "# Initialiser et entraîner le modèle XGBoost\n",
        "xgb_model = XGBClassifier(random_state=42, eval_metric=\"logloss\")\n",
        "xgb_model.fit(X_train_resampled_smote, y_train_resampled_smote)\n",
        "# Prédictions et évaluation\n",
        "y_pred_xgb = xgb_model.predict(X_test_scaled)\n",
        "y_pred_proba = xgb_model.predict_proba(X_test_scaled)[:,1]\n",
        "print(\"XGBoost Classification Report:\")\n",
        "print(classification_report(y_test, y_pred_xgb))\n",
        "\n",
        "# historisation\n",
        "new_entry = pd.DataFrame([{\n",
        "    'model': 'xgboost',\n",
        "    'sampling_alg': 'SMOTE',\n",
        "    'f1_score': metrics.f1_score(y_test, y_pred_xgb),\n",
        "    'auc': metrics.roc_auc_score(y_test, y_pred_proba),\n",
        "    'time_exec': duree\n",
        "}])\n",
        "\n",
        "# Concaténer avec l'historique existant\n",
        "historique = pd.concat([historique, new_entry], ignore_index=True)"
      ]
    },
    {
      "cell_type": "code",
      "execution_count": 75,
      "metadata": {},
      "outputs": [
        {
          "name": "stdout",
          "output_type": "stream",
          "text": [
            "XGBoost Classification Report:\n",
            "              precision    recall  f1-score   support\n",
            "\n",
            "           0       1.00      0.91      0.95    730583\n",
            "           1       0.08      0.84      0.14      6485\n",
            "\n",
            "    accuracy                           0.91    737068\n",
            "   macro avg       0.54      0.88      0.55    737068\n",
            "weighted avg       0.99      0.91      0.95    737068\n",
            "\n"
          ]
        }
      ],
      "source": [
        "# Initialiser et entraîner le modèle XGBoost\n",
        "xgb_model = XGBClassifier(random_state=42, eval_metric=\"logloss\")\n",
        "xgb_model.fit(X_train_undersampling, y_train_undersampling)\n",
        "# Prédictions et évaluation\n",
        "y_pred_xgb = xgb_model.predict(X_test_scaled)\n",
        "y_pred_proba = xgb_model.predict_proba(X_test_scaled)[:,1]\n",
        "print(\"XGBoost Classification Report:\")\n",
        "print(classification_report(y_test, y_pred_xgb))\n",
        "\n",
        "# historisation\n",
        "new_entry = pd.DataFrame([{\n",
        "    'model': 'xgboost',\n",
        "    'sampling_alg': 'RUS',\n",
        "    'f1_score': metrics.f1_score(y_test, y_pred_xgb),\n",
        "    'auc': metrics.roc_auc_score(y_test, y_pred_proba),\n",
        "    'time_exec': duree\n",
        "}])\n",
        "\n",
        "# Concaténer avec l'historique existant\n",
        "historique = pd.concat([historique, new_entry], ignore_index=True)"
      ]
    },
    {
      "cell_type": "markdown",
      "metadata": {
        "id": "59GpcI_67zNN"
      },
      "source": [
        "## **Réseaux de neurones**\n",
        "\n",
        "\n",
        "\n",
        "\n"
      ]
    },
    {
      "cell_type": "code",
      "execution_count": 76,
      "metadata": {
        "colab": {
          "background_save": true
        },
        "id": "qa0D_rpt7ucM",
        "outputId": "1abb3661-8ba4-4fb6-e04c-15f9c05db62d"
      },
      "outputs": [
        {
          "name": "stdout",
          "output_type": "stream",
          "text": [
            "Neural Network Classification Report:\n",
            "              precision    recall  f1-score   support\n",
            "\n",
            "           0       1.00      0.92      0.96    730583\n",
            "           1       0.08      0.82      0.15      6485\n",
            "\n",
            "    accuracy                           0.92    737068\n",
            "   macro avg       0.54      0.87      0.55    737068\n",
            "weighted avg       0.99      0.92      0.95    737068\n",
            "\n"
          ]
        }
      ],
      "source": [
        "# Initialiser et entraîner le réseau de neurones\n",
        "mlp_model = MLPClassifier(random_state=42, max_iter=300)\n",
        "mlp_model.fit(X_train_oversampling, y_train_oversampling)\n",
        "\n",
        "# Prédictions et évaluation\n",
        "y_pred_mlp = mlp_model.predict(X_test_scaled)\n",
        "y_pred_proba = mlp_model.predict_proba(X_test_scaled)[:,1]\n",
        "print(\"Neural Network Classification Report:\")\n",
        "print(classification_report(y_test, y_pred_mlp))\n",
        "\n",
        "# historisation\n",
        "new_entry = pd.DataFrame([{\n",
        "    'model': 'Neural Network',\n",
        "    'sampling_alg': 'ROS',\n",
        "    'f1_score': metrics.f1_score(y_test, y_pred_mlp),\n",
        "    'auc': metrics.roc_auc_score(y_test, y_pred_proba),\n",
        "    'time_exec': duree\n",
        "}])\n",
        "\n",
        "# Concaténer avec l'historique existant\n",
        "historique = pd.concat([historique, new_entry], ignore_index=True)\n",
        "\n",
        "\n"
      ]
    },
    {
      "cell_type": "code",
      "execution_count": 77,
      "metadata": {},
      "outputs": [
        {
          "name": "stdout",
          "output_type": "stream",
          "text": [
            "Neural Network Classification Report:\n",
            "              precision    recall  f1-score   support\n",
            "\n",
            "           0       1.00      0.92      0.96    730583\n",
            "           1       0.08      0.84      0.15      6485\n",
            "\n",
            "    accuracy                           0.92    737068\n",
            "   macro avg       0.54      0.88      0.56    737068\n",
            "weighted avg       0.99      0.92      0.95    737068\n",
            "\n"
          ]
        }
      ],
      "source": [
        "# Initialiser et entraîner le réseau de neurones\n",
        "mlp_model = MLPClassifier(random_state=42, max_iter=300)\n",
        "mlp_model.fit(X_train_undersampling, y_train_undersampling)\n",
        "\n",
        "# Prédictions et évaluation\n",
        "y_pred_mlp = mlp_model.predict(X_test_scaled)\n",
        "y_pred_proba = mlp_model.predict_proba(X_test_scaled)[:,1]\n",
        "print(\"Neural Network Classification Report:\")\n",
        "print(classification_report(y_test, y_pred_mlp))\n",
        "\n",
        "# historisation\n",
        "new_entry = pd.DataFrame([{\n",
        "    'model': 'Neural Network',\n",
        "    'sampling_alg': 'RUS',\n",
        "    'f1_score': metrics.f1_score(y_test, y_pred_mlp),\n",
        "    'auc': metrics.roc_auc_score(y_test, y_pred_proba),\n",
        "    'time_exec': duree\n",
        "}])\n",
        "\n",
        "# Concaténer avec l'historique existant\n",
        "historique = pd.concat([historique, new_entry], ignore_index=True)\n"
      ]
    },
    {
      "cell_type": "code",
      "execution_count": 78,
      "metadata": {},
      "outputs": [
        {
          "name": "stdout",
          "output_type": "stream",
          "text": [
            "Neural Network Classification Report:\n",
            "              precision    recall  f1-score   support\n",
            "\n",
            "           0       1.00      0.93      0.96    730583\n",
            "           1       0.09      0.80      0.17      6485\n",
            "\n",
            "    accuracy                           0.93    737068\n",
            "   macro avg       0.55      0.87      0.56    737068\n",
            "weighted avg       0.99      0.93      0.96    737068\n",
            "\n"
          ]
        }
      ],
      "source": [
        "# Initialiser et entraîner le réseau de neurones\n",
        "mlp_model = MLPClassifier(random_state=42, max_iter=300)\n",
        "mlp_model.fit(X_train_resampled_smote, y_train_resampled_smote)\n",
        "\n",
        "# Prédictions et évaluation\n",
        "y_pred_mlp = mlp_model.predict(X_test_scaled)\n",
        "y_pred_proba = mlp_model.predict_proba(X_test_scaled)[:,1]\n",
        "print(\"Neural Network Classification Report:\")\n",
        "print(classification_report(y_test, y_pred_mlp))\n",
        "\n",
        "# historisation\n",
        "new_entry = pd.DataFrame([{\n",
        "    'model': 'Neural Network',\n",
        "    'sampling_alg': 'SMOTE',\n",
        "    'f1_score': metrics.f1_score(y_test, y_pred_mlp),\n",
        "    'auc': metrics.roc_auc_score(y_test, y_pred_proba),\n",
        "    'time_exec': duree\n",
        "}])\n",
        "\n",
        "# Concaténer avec l'historique existant\n",
        "historique = pd.concat([historique, new_entry], ignore_index=True)\n"
      ]
    },
    {
      "cell_type": "markdown",
      "metadata": {
        "id": "LMcVqx0Qbxke"
      },
      "source": [
        "### KMeans"
      ]
    },
    {
      "cell_type": "code",
      "execution_count": 85,
      "metadata": {},
      "outputs": [
        {
          "name": "stdout",
          "output_type": "stream",
          "text": [
            "Silhouette Score: 0.8776\n"
          ]
        }
      ],
      "source": [
        "# apprentissage avec kmeans\n",
        "# Initialiser le modèle avec K clusters\n",
        "from sklearn.cluster import KMeans\n",
        "kmeans = KMeans(n_clusters=3, random_state=42, n_init=10)\n",
        "\n",
        "# Entraîner le modèle\n",
        "kmeans.fit(X_train_oversampling)\n",
        "\n",
        "# Assigner un cluster à chaque point\n",
        "clusters = kmeans.predict(X_test_scaled)\n",
        "\n",
        "\n",
        "\n",
        "# Calculer le score de silhouette\n",
        "from sklearn.metrics import silhouette_score\n",
        "sil_score = silhouette_score(X_test_scaled, clusters)\n",
        "print(f\"Silhouette Score: {sil_score:.4f}\")\n",
        "\n"
      ]
    },
    {
      "cell_type": "code",
      "execution_count": 83,
      "metadata": {},
      "outputs": [
        {
          "name": "stdout",
          "output_type": "stream",
          "text": [
            "Silhouette Score: 0.8779\n"
          ]
        }
      ],
      "source": [
        "# apprentissage avec kmeans\n",
        "# Initialiser le modèle avec K clusters\n",
        "from sklearn.cluster import KMeans\n",
        "kmeans = KMeans(n_clusters=3, random_state=42, n_init=10)\n",
        "\n",
        "# Entraîner le modèle\n",
        "kmeans.fit(X_train_undersampling)\n",
        "\n",
        "# Assigner un cluster à chaque point\n",
        "clusters = kmeans.predict(X_test_scaled)\n",
        "\n",
        "\n",
        "sil_score = silhouette_score(X_test_scaled, clusters)\n",
        "print(f\"Silhouette Score: {sil_score:.4f}\")"
      ]
    },
    {
      "cell_type": "code",
      "execution_count": 84,
      "metadata": {},
      "outputs": [
        {
          "name": "stdout",
          "output_type": "stream",
          "text": [
            "Silhouette Score: 0.8764\n"
          ]
        }
      ],
      "source": [
        "# apprentissage avec kmeans\n",
        "# Initialiser le modèle avec K clusters\n",
        "from sklearn.cluster import KMeans\n",
        "kmeans = KMeans(n_clusters=3, random_state=42, n_init=10)\n",
        "\n",
        "# Entraîner le modèle\n",
        "kmeans.fit(X_train_resampled_smote)\n",
        "\n",
        "# Assigner un cluster à chaque point\n",
        "clusters = kmeans.predict(X_test_scaled)\n",
        "\n",
        "\n",
        "sil_score = silhouette_score(X_test_scaled, clusters)\n",
        "print(f\"Silhouette Score: {sil_score:.4f}\")"
      ]
    },
    {
      "cell_type": "markdown",
      "metadata": {
        "id": "kfIppsNoccPV"
      },
      "source": [
        "## Decision Tree Classifier"
      ]
    },
    {
      "cell_type": "code",
      "execution_count": 79,
      "metadata": {
        "colab": {
          "base_uri": "https://localhost:8080/"
        },
        "id": "cPT4LHa8bv7-",
        "outputId": "4651d0a2-40ea-46b0-8541-dfbfb15692c0"
      },
      "outputs": [
        {
          "name": "stdout",
          "output_type": "stream",
          "text": [
            "              precision    recall  f1-score   support\n",
            "\n",
            "           0       1.00      0.90      0.94    730583\n",
            "           1       0.06      0.82      0.12      6485\n",
            "\n",
            "    accuracy                           0.89    737068\n",
            "   macro avg       0.53      0.86      0.53    737068\n",
            "weighted avg       0.99      0.89      0.94    737068\n",
            "\n",
            "ROC AUC: 0.9147542905424025\n"
          ]
        }
      ],
      "source": [
        "decision_tree = DecisionTreeClassifier(max_depth=5, random_state=42, class_weight='balanced')\n",
        "decision_tree.fit(X_train_oversampling, y_train_oversampling)\n",
        "y_pred_tree = decision_tree.predict(X_test_scaled)\n",
        "roc_auc = roc_auc_score(y_test, decision_tree.predict_proba(X_test_scaled)[:, 1])\n",
        "print(classification_report(y_test, y_pred_tree))\n",
        "print(\"ROC AUC:\", roc_auc)\n",
        "\n",
        "# historisation\n",
        "new_entry = pd.DataFrame([{\n",
        "    'model': 'Decision Tree',\n",
        "    'sampling_alg': 'ROS',\n",
        "    'f1_score': metrics.f1_score(y_test, y_pred_tree),\n",
        "    'auc': roc_auc,\n",
        "    'time_exec': duree\n",
        "}])\n",
        "\n",
        "# Concaténer avec l'historique existant\n",
        "historique = pd.concat([historique, new_entry], ignore_index=True)"
      ]
    },
    {
      "cell_type": "code",
      "execution_count": 80,
      "metadata": {},
      "outputs": [
        {
          "name": "stdout",
          "output_type": "stream",
          "text": [
            "              precision    recall  f1-score   support\n",
            "\n",
            "           0       1.00      0.88      0.94    730583\n",
            "           1       0.06      0.83      0.11      6485\n",
            "\n",
            "    accuracy                           0.88    737068\n",
            "   macro avg       0.53      0.86      0.52    737068\n",
            "weighted avg       0.99      0.88      0.93    737068\n",
            "\n",
            "ROC AUC: 0.9155891045542424\n"
          ]
        }
      ],
      "source": [
        "decision_tree = DecisionTreeClassifier(max_depth=5, random_state=42, class_weight='balanced')\n",
        "decision_tree.fit(X_train_resampled_smote, y_train_resampled_smote)\n",
        "y_pred_tree = decision_tree.predict(X_test_scaled)\n",
        "print(classification_report(y_test, y_pred_tree))\n",
        "roc_auc = roc_auc_score(y_test, decision_tree.predict_proba(X_test_scaled)[:, 1])\n",
        "print(\"ROC AUC:\", roc_auc)\n",
        "\n",
        "# historisation\n",
        "new_entry = pd.DataFrame([{\n",
        "    'model': 'Decision Tree',\n",
        "    'sampling_alg': 'SMOTE',\n",
        "    'f1_score': metrics.f1_score(y_test, y_pred_tree),\n",
        "    'auc': roc_auc,\n",
        "    'time_exec': duree\n",
        "}])\n",
        "\n",
        "# Concaténer avec l'historique existant\n",
        "historique = pd.concat([historique, new_entry], ignore_index=True)"
      ]
    },
    {
      "cell_type": "code",
      "execution_count": 81,
      "metadata": {},
      "outputs": [
        {
          "name": "stdout",
          "output_type": "stream",
          "text": [
            "              precision    recall  f1-score   support\n",
            "\n",
            "           0       1.00      0.91      0.95    730583\n",
            "           1       0.08      0.82      0.14      6485\n",
            "\n",
            "    accuracy                           0.91    737068\n",
            "   macro avg       0.54      0.87      0.55    737068\n",
            "weighted avg       0.99      0.91      0.95    737068\n",
            "\n",
            "ROC AUC: 0.9175029115196834\n"
          ]
        }
      ],
      "source": [
        "decision_tree = DecisionTreeClassifier(max_depth=5, random_state=42, class_weight='balanced')\n",
        "decision_tree.fit(X_train_undersampling, y_train_undersampling)\n",
        "y_pred_tree = decision_tree.predict(X_test_scaled)\n",
        "roc_auc = roc_auc_score(y_test, decision_tree.predict_proba(X_test_scaled)[:, 1])\n",
        "print(classification_report(y_test, y_pred_tree))\n",
        "print(\"ROC AUC:\", roc_auc)\n",
        "\n",
        "# historisation\n",
        "new_entry = pd.DataFrame([{\n",
        "    'model': 'Decision Tree',\n",
        "    'sampling_alg': 'RUS',\n",
        "    'f1_score': metrics.f1_score(y_test, y_pred_tree),\n",
        "    'auc': roc_auc,\n",
        "    'time_exec': duree\n",
        "}])\n",
        "\n",
        "# Concaténer avec l'historique existant\n",
        "historique = pd.concat([historique, new_entry], ignore_index=True)"
      ]
    },
    {
      "cell_type": "code",
      "execution_count": 82,
      "metadata": {},
      "outputs": [
        {
          "data": {
            "text/html": [
              "<div>\n",
              "<style scoped>\n",
              "    .dataframe tbody tr th:only-of-type {\n",
              "        vertical-align: middle;\n",
              "    }\n",
              "\n",
              "    .dataframe tbody tr th {\n",
              "        vertical-align: top;\n",
              "    }\n",
              "\n",
              "    .dataframe thead th {\n",
              "        text-align: right;\n",
              "    }\n",
              "</style>\n",
              "<table border=\"1\" class=\"dataframe\">\n",
              "  <thead>\n",
              "    <tr style=\"text-align: right;\">\n",
              "      <th></th>\n",
              "      <th>model</th>\n",
              "      <th>sampling_alg</th>\n",
              "      <th>f1_score</th>\n",
              "      <th>auc</th>\n",
              "      <th>time_exec</th>\n",
              "    </tr>\n",
              "  </thead>\n",
              "  <tbody>\n",
              "    <tr>\n",
              "      <th>0</th>\n",
              "      <td>Logistic Regression</td>\n",
              "      <td>ROS</td>\n",
              "      <td>0.201534</td>\n",
              "      <td>0.935201</td>\n",
              "      <td>25.803630</td>\n",
              "    </tr>\n",
              "    <tr>\n",
              "      <th>1</th>\n",
              "      <td>Logistic Regression</td>\n",
              "      <td>RUS</td>\n",
              "      <td>0.194457</td>\n",
              "      <td>0.935502</td>\n",
              "      <td>0.171037</td>\n",
              "    </tr>\n",
              "    <tr>\n",
              "      <th>2</th>\n",
              "      <td>Logistic Regression</td>\n",
              "      <td>SMOTE</td>\n",
              "      <td>0.198428</td>\n",
              "      <td>0.934795</td>\n",
              "      <td>15.355116</td>\n",
              "    </tr>\n",
              "    <tr>\n",
              "      <th>3</th>\n",
              "      <td>Random Forest</td>\n",
              "      <td>ROS</td>\n",
              "      <td>0.786260</td>\n",
              "      <td>0.934795</td>\n",
              "      <td>15.355116</td>\n",
              "    </tr>\n",
              "    <tr>\n",
              "      <th>4</th>\n",
              "      <td>Random Forest</td>\n",
              "      <td>SMOTE</td>\n",
              "      <td>0.728675</td>\n",
              "      <td>0.919903</td>\n",
              "      <td>6961.750942</td>\n",
              "    </tr>\n",
              "    <tr>\n",
              "      <th>5</th>\n",
              "      <td>Random Forest</td>\n",
              "      <td>RUS</td>\n",
              "      <td>0.162209</td>\n",
              "      <td>0.939790</td>\n",
              "      <td>7017.985288</td>\n",
              "    </tr>\n",
              "    <tr>\n",
              "      <th>6</th>\n",
              "      <td>xgboost</td>\n",
              "      <td>ROS</td>\n",
              "      <td>0.168413</td>\n",
              "      <td>0.935296</td>\n",
              "      <td>7017.985288</td>\n",
              "    </tr>\n",
              "    <tr>\n",
              "      <th>7</th>\n",
              "      <td>xgboost</td>\n",
              "      <td>SMOTE</td>\n",
              "      <td>0.278743</td>\n",
              "      <td>0.928679</td>\n",
              "      <td>7017.985288</td>\n",
              "    </tr>\n",
              "    <tr>\n",
              "      <th>8</th>\n",
              "      <td>xgboost</td>\n",
              "      <td>RUS</td>\n",
              "      <td>0.143020</td>\n",
              "      <td>0.937915</td>\n",
              "      <td>7017.985288</td>\n",
              "    </tr>\n",
              "    <tr>\n",
              "      <th>9</th>\n",
              "      <td>Neural Network</td>\n",
              "      <td>ROS</td>\n",
              "      <td>0.146117</td>\n",
              "      <td>0.932059</td>\n",
              "      <td>7017.985288</td>\n",
              "    </tr>\n",
              "    <tr>\n",
              "      <th>10</th>\n",
              "      <td>Neural Network</td>\n",
              "      <td>RUS</td>\n",
              "      <td>0.154169</td>\n",
              "      <td>0.939971</td>\n",
              "      <td>7017.985288</td>\n",
              "    </tr>\n",
              "    <tr>\n",
              "      <th>11</th>\n",
              "      <td>Neural Network</td>\n",
              "      <td>SMOTE</td>\n",
              "      <td>0.166096</td>\n",
              "      <td>0.919173</td>\n",
              "      <td>7017.985288</td>\n",
              "    </tr>\n",
              "    <tr>\n",
              "      <th>12</th>\n",
              "      <td>Decision Tree</td>\n",
              "      <td>ROS</td>\n",
              "      <td>0.119905</td>\n",
              "      <td>0.914754</td>\n",
              "      <td>7017.985288</td>\n",
              "    </tr>\n",
              "    <tr>\n",
              "      <th>13</th>\n",
              "      <td>Decision Tree</td>\n",
              "      <td>SMOTE</td>\n",
              "      <td>0.110343</td>\n",
              "      <td>0.915589</td>\n",
              "      <td>7017.985288</td>\n",
              "    </tr>\n",
              "    <tr>\n",
              "      <th>14</th>\n",
              "      <td>Decision Tree</td>\n",
              "      <td>RUS</td>\n",
              "      <td>0.143852</td>\n",
              "      <td>0.917503</td>\n",
              "      <td>7017.985288</td>\n",
              "    </tr>\n",
              "  </tbody>\n",
              "</table>\n",
              "</div>"
            ],
            "text/plain": [
              "                  model sampling_alg  f1_score       auc    time_exec\n",
              "0   Logistic Regression          ROS  0.201534  0.935201    25.803630\n",
              "1   Logistic Regression          RUS  0.194457  0.935502     0.171037\n",
              "2   Logistic Regression        SMOTE  0.198428  0.934795    15.355116\n",
              "3         Random Forest          ROS  0.786260  0.934795    15.355116\n",
              "4         Random Forest        SMOTE  0.728675  0.919903  6961.750942\n",
              "5         Random Forest          RUS  0.162209  0.939790  7017.985288\n",
              "6               xgboost          ROS  0.168413  0.935296  7017.985288\n",
              "7               xgboost        SMOTE  0.278743  0.928679  7017.985288\n",
              "8               xgboost          RUS  0.143020  0.937915  7017.985288\n",
              "9        Neural Network          ROS  0.146117  0.932059  7017.985288\n",
              "10       Neural Network          RUS  0.154169  0.939971  7017.985288\n",
              "11       Neural Network        SMOTE  0.166096  0.919173  7017.985288\n",
              "12        Decision Tree          ROS  0.119905  0.914754  7017.985288\n",
              "13        Decision Tree        SMOTE  0.110343  0.915589  7017.985288\n",
              "14        Decision Tree          RUS  0.143852  0.917503  7017.985288"
            ]
          },
          "execution_count": 82,
          "metadata": {},
          "output_type": "execute_result"
        }
      ],
      "source": [
        "historique"
      ]
    }
  ],
  "metadata": {
    "accelerator": "GPU",
    "colab": {
      "collapsed_sections": [
        "GLx9yOUep3GQ",
        "EwktVmFrq_Ua",
        "HoJQKFfzrbPu"
      ],
      "gpuType": "T4",
      "provenance": []
    },
    "kernelspec": {
      "display_name": "fouille_donnee",
      "language": "python",
      "name": "python3"
    },
    "language_info": {
      "codemirror_mode": {
        "name": "ipython",
        "version": 3
      },
      "file_extension": ".py",
      "mimetype": "text/x-python",
      "name": "python",
      "nbconvert_exporter": "python",
      "pygments_lexer": "ipython3",
      "version": "3.12.8"
    }
  },
  "nbformat": 4,
  "nbformat_minor": 0
}
